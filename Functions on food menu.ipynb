{
 "cells": [
  {
   "cell_type": "code",
   "execution_count": 1,
   "id": "cbc95b90",
   "metadata": {},
   "outputs": [
    {
     "data": {
      "text/plain": [
       "'Ecommerce App\\nRestaurant Ordering System\\n1. Display all the menu items with prices.\\n2. Customer order multiple items.\\n3. Calculate the total bill\\n4. Apply discount if bill is more than 1000\\nPizza == Pizza or  Burger == Burger - True'"
      ]
     },
     "execution_count": 1,
     "metadata": {},
     "output_type": "execute_result"
    }
   ],
   "source": [
    "'''Ecommerce App\n",
    "Restaurant Ordering System\n",
    "1. Display all the menu items with prices.\n",
    "2. Customer order multiple items.\n",
    "3. Calculate the total bill\n",
    "4. Apply discount if bill is more than 1000\n",
    "Pizza == Pizza or  Burger == Burger - True'''"
   ]
  },
  {
   "cell_type": "code",
   "execution_count": null,
   "id": "f7359717",
   "metadata": {},
   "outputs": [
    {
     "name": "stdout",
     "output_type": "stream",
     "text": [
      "Welcome to Restaurant Ordering System!\n",
      "Menu:\n",
      "-----------\n",
      "Pizza : 250\n",
      "Burger : 120\n",
      "Pasta : 180\n",
      "Sandwich : 120\n",
      "Coke : 50\n",
      "Enter the item you want to order: Pizza\n",
      "Enter the quantity: 2\n"
     ]
    }
   ],
   "source": [
    "# Ecommerce App\n",
    "\n",
    "def display_menu(menu):\n",
    "  print(\"Menu:\")\n",
    "  print('-----------')\n",
    "  for item in menu:\n",
    "    print(item, ':', menu[item])\n",
    "\n",
    "def take_order(menu):\n",
    "  order = { }\n",
    "  item = input('Enter the item you want to order: ')\n",
    "  while item != 'done':\n",
    "    if item in menu:\n",
    "      quantity = int(input('Enter the quantity: '))\n",
    "      order[item] = quantity\n",
    "    else:\n",
    "      print('Not available in menu')\n",
    "    item = input('Enter the item you want to order: ')\n",
    "  return order\n",
    "\n",
    "def calculate_bill(menu, order):\n",
    "  total_amount = 0\n",
    "  for item in order:\n",
    "    total_amount = total_amount + menu[item] * order[item]\n",
    "\n",
    "  return total_amount\n",
    "\n",
    "def calculate_discount(total_amount):\n",
    "  discounted_amount = 0\n",
    "  if total_amount >= 1000:\n",
    "    discounted_amount = total_amount - ((total_amount * 10) / 100)\n",
    "  elif total_amount >= 500:\n",
    "    discounted_amount = total_amount - ((total_amount * 5) / 100)\n",
    "  elif total_amount >= 250:\n",
    "    discounted_amount = total_amount - ((total_amount * 2) / 100)\n",
    "  else:\n",
    "    discounted_amount = total_amount\n",
    "  return discounted_amount\n",
    "\n",
    "def main():\n",
    "  print(\"Welcome to Restaurant Ordering System!\")\n",
    "  menu = { 'Pizza': 250, 'Burger': 120, 'Pasta': 180, 'Sandwich': 120, 'Coke': 50 }\n",
    "\n",
    "  display_menu(menu)\n",
    "  \n",
    "  order = take_order(menu)\n",
    "  print(\"Order:\")\n",
    "  print(order)\n",
    "  \n",
    "  total_amount = calculate_bill(menu, order)\n",
    "  print(\"Total Amount:\")\n",
    "  print(total_amount)\n",
    "\n",
    "  discounted_amount = calculate_discount(total_amount)\n",
    "  print(\"Amount to pay:\", discounted_amount)\n",
    "\n",
    "main()"
   ]
  },
  {
   "cell_type": "code",
   "execution_count": null,
   "id": "0d9a02c7",
   "metadata": {},
   "outputs": [],
   "source": []
  }
 ],
 "metadata": {
  "kernelspec": {
   "display_name": "Python 3 (ipykernel)",
   "language": "python",
   "name": "python3"
  },
  "language_info": {
   "codemirror_mode": {
    "name": "ipython",
    "version": 3
   },
   "file_extension": ".py",
   "mimetype": "text/x-python",
   "name": "python",
   "nbconvert_exporter": "python",
   "pygments_lexer": "ipython3",
   "version": "3.11.5"
  }
 },
 "nbformat": 4,
 "nbformat_minor": 5
}
