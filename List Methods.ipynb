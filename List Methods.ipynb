{
 "cells": [
  {
   "cell_type": "markdown",
   "id": "84281874",
   "metadata": {},
   "source": [
    "# List methods:Adding elements to the list\n"
   ]
  },
  {
   "cell_type": "markdown",
   "id": "ea89a866",
   "metadata": {},
   "source": [
    "# Adding Elements"
   ]
  },
  {
   "cell_type": "code",
   "execution_count": 2,
   "id": "74c98ea7",
   "metadata": {},
   "outputs": [
    {
     "data": {
      "text/plain": [
       "['Vijayawada', 'Hyderabad', 'Secunderabad', 'Kaitarabad', 'Chennai']"
      ]
     },
     "execution_count": 2,
     "metadata": {},
     "output_type": "execute_result"
    }
   ],
   "source": [
    "#append(item)\n",
    "#add new element to the end of the list\n",
    "cities=['Vijayawada','Hyderabad','Secunderabad','Kaitarabad']\n",
    "cities.append('Chennai')\n",
    "cities"
   ]
  },
  {
   "cell_type": "code",
   "execution_count": 3,
   "id": "612f2fda",
   "metadata": {},
   "outputs": [
    {
     "data": {
      "text/plain": [
       "['Vijayawada', 'Hyderabad', 'Secunderabad', 'Kaitarabad', 'Chennai', 'Pune']"
      ]
     },
     "execution_count": 3,
     "metadata": {},
     "output_type": "execute_result"
    }
   ],
   "source": [
    "cities.append('Pune')\n",
    "cities"
   ]
  },
  {
   "cell_type": "code",
   "execution_count": 5,
   "id": "3f1eba79",
   "metadata": {},
   "outputs": [
    {
     "data": {
      "text/plain": [
       "['Vijayawada',\n",
       " 'Nanakramguda',\n",
       " 'Hyderabad',\n",
       " 'Secunderabad',\n",
       " 'Kaitarabad',\n",
       " 'Chennai',\n",
       " 'Pune']"
      ]
     },
     "execution_count": 5,
     "metadata": {},
     "output_type": "execute_result"
    }
   ],
   "source": [
    "#insert(index_value,item)\n",
    "#Add new element to the list in a specific position\n",
    "cities.insert(1,'Nanakramguda')\n",
    "cities"
   ]
  },
  {
   "cell_type": "code",
   "execution_count": 8,
   "id": "53871cc3",
   "metadata": {},
   "outputs": [],
   "source": [
    "#extend(): used to combine two lists\n",
    "states=['Andhra','Telangana','Karnataka','Bihar']\n",
    "extra_states=['Kerala','Gujarat','Odisha']\n",
    "states.extend(extra_states)"
   ]
  },
  {
   "cell_type": "code",
   "execution_count": 9,
   "id": "55c02ae4",
   "metadata": {},
   "outputs": [
    {
     "data": {
      "text/plain": [
       "['Andhra', 'Telangana', 'Karnataka', 'Bihar', 'Kerala', 'Gujarat', 'Odisha']"
      ]
     },
     "execution_count": 9,
     "metadata": {},
     "output_type": "execute_result"
    }
   ],
   "source": [
    "states"
   ]
  },
  {
   "cell_type": "markdown",
   "id": "37f42a49",
   "metadata": {},
   "source": [
    "# Remove Elements"
   ]
  },
  {
   "cell_type": "code",
   "execution_count": 13,
   "id": "a5c4a423",
   "metadata": {},
   "outputs": [
    {
     "data": {
      "text/plain": [
       "['Telangana', 'Karnataka', 'Bihar', 'Kerala', 'Odisha']"
      ]
     },
     "execution_count": 13,
     "metadata": {},
     "output_type": "execute_result"
    }
   ],
   "source": [
    "#remove() used to remove elements from the list based on the value\n",
    "states.remove('Gujarat')\n",
    "states"
   ]
  },
  {
   "cell_type": "code",
   "execution_count": 14,
   "id": "a85f3ad5",
   "metadata": {},
   "outputs": [
    {
     "data": {
      "text/plain": [
       "['Telangana', 'Bihar', 'Kerala', 'Odisha']"
      ]
     },
     "execution_count": 14,
     "metadata": {},
     "output_type": "execute_result"
    }
   ],
   "source": [
    "#pop() used to remove element from the list based on the index value\n",
    "states.pop(1)\n",
    "states"
   ]
  },
  {
   "cell_type": "code",
   "execution_count": 15,
   "id": "c4a696c3",
   "metadata": {},
   "outputs": [
    {
     "data": {
      "text/plain": [
       "[]"
      ]
     },
     "execution_count": 15,
     "metadata": {},
     "output_type": "execute_result"
    }
   ],
   "source": [
    "#clear() used to clear elements from the list\n",
    "places=['Charminar','Golkonda','Durgam Cheruvu']\n",
    "places.clear()\n",
    "places"
   ]
  },
  {
   "cell_type": "markdown",
   "id": "01db31bc",
   "metadata": {},
   "source": [
    "# Finding & Counting Elements"
   ]
  },
  {
   "cell_type": "code",
   "execution_count": 19,
   "id": "3ad72d44",
   "metadata": {},
   "outputs": [
    {
     "data": {
      "text/plain": [
       "3"
      ]
     },
     "execution_count": 19,
     "metadata": {},
     "output_type": "execute_result"
    }
   ],
   "source": [
    "#index(item) find the index value of the given element\n",
    "\n",
    "languages=['telugu','hindi','english','urdu','urdu','urdu']\n",
    "languages.index('urdu')\n"
   ]
  },
  {
   "cell_type": "code",
   "execution_count": 20,
   "id": "2d7a6887",
   "metadata": {},
   "outputs": [
    {
     "data": {
      "text/plain": [
       "3"
      ]
     },
     "execution_count": 20,
     "metadata": {},
     "output_type": "execute_result"
    }
   ],
   "source": [
    "#count() find no.of occurences of the elements\n",
    "count=languages.count('urdu')\n",
    "count"
   ]
  },
  {
   "cell_type": "markdown",
   "id": "f7554a1c",
   "metadata": {},
   "source": [
    "# Sorting & Reversing"
   ]
  },
  {
   "cell_type": "code",
   "execution_count": 24,
   "id": "84caa6e3",
   "metadata": {},
   "outputs": [
    {
     "name": "stdout",
     "output_type": "stream",
     "text": [
      "['english', 'hindi', 'telugu', 'urdu', 'urdu', 'urdu']\n"
     ]
    }
   ],
   "source": [
    "#sort() sorts the list in Ascending Order\n",
    "languages.sort()\n",
    "print(languages)"
   ]
  },
  {
   "cell_type": "code",
   "execution_count": 26,
   "id": "36f889e0",
   "metadata": {},
   "outputs": [
    {
     "name": "stdout",
     "output_type": "stream",
     "text": [
      "['urdu', 'urdu', 'urdu', 'telugu', 'hindi', 'english']\n"
     ]
    }
   ],
   "source": [
    "#sort(reverse=True) reverse the list\n",
    "languages.sort(reverse=True)\n",
    "print(languages)"
   ]
  },
  {
   "cell_type": "markdown",
   "id": "23b7d9d1",
   "metadata": {},
   "source": [
    "# Using of sorting method in the Dictionary"
   ]
  },
  {
   "cell_type": "code",
   "execution_count": 27,
   "id": "fd7395bf",
   "metadata": {},
   "outputs": [],
   "source": [
    "# List of dictionaries\n",
    "students = [\n",
    "    {\"id\": 1, \"name\": \"Aarav\", \"age\": 21, \"marks\": 88},\n",
    "    {\"id\": 2, \"name\": \"Diya\", \"age\": 20, \"marks\": 92},\n",
    "    {\"id\": 3, \"name\": \"Kabir\", \"age\": 22, \"marks\": 76},\n",
    "    {\"id\": 4, \"name\": \"Meera\", \"age\": 19, \"marks\": 85},\n",
    "    {\"id\": 5, \"name\": \"Rohan\", \"age\": 23, \"marks\": 90}\n",
    "]\n"
   ]
  },
  {
   "cell_type": "code",
   "execution_count": 28,
   "id": "a95dd565",
   "metadata": {},
   "outputs": [
    {
     "name": "stdout",
     "output_type": "stream",
     "text": [
      "[{'id': 4, 'name': 'Meera', 'age': 19, 'marks': 85}, {'id': 2, 'name': 'Diya', 'age': 20, 'marks': 92}, {'id': 1, 'name': 'Aarav', 'age': 21, 'marks': 88}, {'id': 3, 'name': 'Kabir', 'age': 22, 'marks': 76}, {'id': 5, 'name': 'Rohan', 'age': 23, 'marks': 90}]\n"
     ]
    }
   ],
   "source": [
    "students.sort(key=lambda student: student['age'])\n",
    "print(students)"
   ]
  },
  {
   "cell_type": "markdown",
   "id": "0a2f5142",
   "metadata": {},
   "source": [
    "# Copying"
   ]
  },
  {
   "cell_type": "code",
   "execution_count": 29,
   "id": "493aac9c",
   "metadata": {},
   "outputs": [
    {
     "data": {
      "text/plain": [
       "['urdu', 'urdu', 'urdu', 'telugu', 'hindi', 'english']"
      ]
     },
     "execution_count": 29,
     "metadata": {},
     "output_type": "execute_result"
    }
   ],
   "source": [
    "#copy() returns a copy of a list\n",
    "#same data is stored in two different memory locations\n",
    "copy=languages.copy()\n",
    "copy"
   ]
  },
  {
   "cell_type": "markdown",
   "id": "9fc237d6",
   "metadata": {},
   "source": [
    "# List Operations"
   ]
  },
  {
   "cell_type": "code",
   "execution_count": 32,
   "id": "142d73f4",
   "metadata": {},
   "outputs": [
    {
     "data": {
      "text/plain": [
       "3856"
      ]
     },
     "execution_count": 32,
     "metadata": {},
     "output_type": "execute_result"
    }
   ],
   "source": [
    "#sum() calculates sum of items\n",
    "amounts=[100,200,300,800,750,952,754]\n",
    "total=sum(amounts)\n",
    "total"
   ]
  },
  {
   "cell_type": "code",
   "execution_count": null,
   "id": "6c92801c",
   "metadata": {},
   "outputs": [],
   "source": []
  }
 ],
 "metadata": {
  "kernelspec": {
   "display_name": "Python 3 (ipykernel)",
   "language": "python",
   "name": "python3"
  },
  "language_info": {
   "codemirror_mode": {
    "name": "ipython",
    "version": 3
   },
   "file_extension": ".py",
   "mimetype": "text/x-python",
   "name": "python",
   "nbconvert_exporter": "python",
   "pygments_lexer": "ipython3",
   "version": "3.11.5"
  }
 },
 "nbformat": 4,
 "nbformat_minor": 5
}
