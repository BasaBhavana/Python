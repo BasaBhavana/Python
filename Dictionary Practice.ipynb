{
 "cells": [
  {
   "cell_type": "code",
   "execution_count": 1,
   "id": "a44e950e",
   "metadata": {},
   "outputs": [],
   "source": [
    "emp_info={'name':'Devi','surname':'basa','num':'LE1','compamy':'Wipro','native':'Vijayawada','salary':90000}"
   ]
  },
  {
   "cell_type": "code",
   "execution_count": null,
   "id": "4b4b8538",
   "metadata": {},
   "outputs": [],
   "source": [
    "#syntax to create a dictionary\n",
    "#Var_name={'key1':val1,'key2':val2....'keyn':valn}"
   ]
  },
  {
   "cell_type": "code",
   "execution_count": 2,
   "id": "dfebc64a",
   "metadata": {
    "scrolled": false
   },
   "outputs": [
    {
     "name": "stdout",
     "output_type": "stream",
     "text": [
      "{'name': 'Devi', 'surname': 'basa', 'num': 'LE1', 'compamy': 'Wipro', 'native': 'Vijayawada', 'salary': 90000}\n"
     ]
    }
   ],
   "source": [
    "print(emp_info)"
   ]
  },
  {
   "cell_type": "code",
   "execution_count": 3,
   "id": "c99bd81a",
   "metadata": {},
   "outputs": [],
   "source": [
    "#to read the value\n",
    "#syntax:var_name['key_name']"
   ]
  },
  {
   "cell_type": "code",
   "execution_count": 5,
   "id": "0bb88ff3",
   "metadata": {},
   "outputs": [
    {
     "name": "stdout",
     "output_type": "stream",
     "text": [
      "basa\n"
     ]
    }
   ],
   "source": [
    "print(emp_info['surname'])"
   ]
  },
  {
   "cell_type": "code",
   "execution_count": 6,
   "id": "4af8f5cd",
   "metadata": {},
   "outputs": [],
   "source": [
    "#appending the information to the dictionary"
   ]
  },
  {
   "cell_type": "code",
   "execution_count": 7,
   "id": "d875757c",
   "metadata": {},
   "outputs": [],
   "source": [
    "emp_info['age']=20"
   ]
  },
  {
   "cell_type": "code",
   "execution_count": 8,
   "id": "d1b4b953",
   "metadata": {},
   "outputs": [
    {
     "name": "stdout",
     "output_type": "stream",
     "text": [
      "{'name': 'Devi', 'surname': 'basa', 'num': 'LE1', 'compamy': 'Wipro', 'native': 'Vijayawada', 'salary': 90000, 'age': 20}\n"
     ]
    }
   ],
   "source": [
    "print(emp_info)"
   ]
  },
  {
   "cell_type": "code",
   "execution_count": 1,
   "id": "de491333",
   "metadata": {},
   "outputs": [],
   "source": [
    "emp_info={'name':'Devi','surname':'basa','num':'LE1','compamy':'Wipro','native':'Vijayawada','salary':90000}"
   ]
  },
  {
   "cell_type": "code",
   "execution_count": 2,
   "id": "17f647ff",
   "metadata": {},
   "outputs": [
    {
     "data": {
      "text/plain": [
       "{'name': 'Devi',\n",
       " 'surname': 'basa',\n",
       " 'num': 'LE1',\n",
       " 'compamy': 'Wipro',\n",
       " 'native': 'Vijayawada',\n",
       " 'salary': 90000}"
      ]
     },
     "execution_count": 2,
     "metadata": {},
     "output_type": "execute_result"
    }
   ],
   "source": [
    "emp_info"
   ]
  },
  {
   "cell_type": "code",
   "execution_count": 3,
   "id": "5e95d628",
   "metadata": {},
   "outputs": [],
   "source": [
    "#nested dictionary\n",
    "#to enter data in more readable format\n",
    "#basically a list inside the dictionary"
   ]
  },
  {
   "cell_type": "code",
   "execution_count": 4,
   "id": "673eee2f",
   "metadata": {},
   "outputs": [],
   "source": [
    "emp_info1={'name':'bhavana','surname':'basa','address':{'area':'pipul road','city':'Vijayawada','dist':'NTR'}}"
   ]
  },
  {
   "cell_type": "code",
   "execution_count": 5,
   "id": "a9d211ba",
   "metadata": {},
   "outputs": [
    {
     "data": {
      "text/plain": [
       "{'name': 'bhavana',\n",
       " 'surname': 'basa',\n",
       " 'address': {'area': 'pipul road', 'city': 'Vijayawada', 'dist': 'NTR'}}"
      ]
     },
     "execution_count": 5,
     "metadata": {},
     "output_type": "execute_result"
    }
   ],
   "source": [
    "emp_info1"
   ]
  },
  {
   "cell_type": "code",
   "execution_count": 7,
   "id": "0880945e",
   "metadata": {},
   "outputs": [],
   "source": [
    "#inside a dictionary a tuple,list,booleans can also be stored\n",
    "emp_info1={'name':'bhavana','surname':'basa','address':{'area':'pipul road','city':'Vijayawada','dist':'NTR'},'is_acc_act':True,'home_location':(1234,5678),'roles':['Devloper','ADMIN','Support']}"
   ]
  },
  {
   "cell_type": "code",
   "execution_count": 9,
   "id": "42033ddf",
   "metadata": {},
   "outputs": [
    {
     "name": "stdout",
     "output_type": "stream",
     "text": [
      "pipul road\n"
     ]
    }
   ],
   "source": [
    "#to retrive the information from the nested dictionary\n",
    "print(emp_info1['address']['area'])"
   ]
  },
  {
   "cell_type": "code",
   "execution_count": 11,
   "id": "c25a0f01",
   "metadata": {},
   "outputs": [
    {
     "name": "stdout",
     "output_type": "stream",
     "text": [
      "Support\n"
     ]
    }
   ],
   "source": [
    "print(emp_info1['roles'][2])"
   ]
  },
  {
   "cell_type": "code",
   "execution_count": 16,
   "id": "b0c3561e",
   "metadata": {},
   "outputs": [],
   "source": [
    "#list of dictionaries\n",
    "garments=[\n",
    "    {\n",
    "        'name':'Garment1',\n",
    "        'price':9000,\n",
    "        'discount':45\n",
    "    },\n",
    "    {\n",
    "        'name':'Garment2',\n",
    "        'price':4500,\n",
    "        'discount':12\n",
    "    }\n",
    "]"
   ]
  },
  {
   "cell_type": "code",
   "execution_count": 17,
   "id": "00b9d74c",
   "metadata": {},
   "outputs": [
    {
     "name": "stdout",
     "output_type": "stream",
     "text": [
      "Garment1\n"
     ]
    }
   ],
   "source": [
    "#to retrive the data\n",
    "print(garments[0]['name'])"
   ]
  },
  {
   "cell_type": "code",
   "execution_count": 19,
   "id": "c707650b",
   "metadata": {},
   "outputs": [],
   "source": [
    "#updating the list of dictionaries\n",
    "\n",
    "garments[0]['price']=8700"
   ]
  },
  {
   "cell_type": "code",
   "execution_count": 20,
   "id": "5fc000cd",
   "metadata": {},
   "outputs": [
    {
     "data": {
      "text/plain": [
       "[{'name': 'Garment1', 'price': 8700, 'discount': 45},\n",
       " {'name': 'Garment2', 'price': 4500, 'discount': 12}]"
      ]
     },
     "execution_count": 20,
     "metadata": {},
     "output_type": "execute_result"
    }
   ],
   "source": [
    "garments"
   ]
  },
  {
   "cell_type": "code",
   "execution_count": 21,
   "id": "3239b8a8",
   "metadata": {},
   "outputs": [],
   "source": [
    "garments[0]['sizes']=['XL','XXL']"
   ]
  },
  {
   "cell_type": "code",
   "execution_count": 22,
   "id": "f7401c59",
   "metadata": {},
   "outputs": [
    {
     "data": {
      "text/plain": [
       "[{'name': 'Garment1', 'price': 8700, 'discount': 45, 'sizes': ['XL', 'XXL']},\n",
       " {'name': 'Garment2', 'price': 4500, 'discount': 12}]"
      ]
     },
     "execution_count": 22,
     "metadata": {},
     "output_type": "execute_result"
    }
   ],
   "source": [
    "garments"
   ]
  },
  {
   "cell_type": "code",
   "execution_count": null,
   "id": "dd8dcbbb",
   "metadata": {},
   "outputs": [],
   "source": []
  }
 ],
 "metadata": {
  "kernelspec": {
   "display_name": "Python 3 (ipykernel)",
   "language": "python",
   "name": "python3"
  },
  "language_info": {
   "codemirror_mode": {
    "name": "ipython",
    "version": 3
   },
   "file_extension": ".py",
   "mimetype": "text/x-python",
   "name": "python",
   "nbconvert_exporter": "python",
   "pygments_lexer": "ipython3",
   "version": "3.11.5"
  }
 },
 "nbformat": 4,
 "nbformat_minor": 5
}
