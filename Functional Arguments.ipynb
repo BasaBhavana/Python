{
 "cells": [
  {
   "cell_type": "markdown",
   "id": "5d0809b8",
   "metadata": {},
   "source": [
    "# Positional Arguments"
   ]
  },
  {
   "cell_type": "code",
   "execution_count": 1,
   "id": "7381cb24",
   "metadata": {},
   "outputs": [
    {
     "name": "stdout",
     "output_type": "stream",
     "text": [
      "Customer Name: Bhavana\n",
      "Item Name: Maggie\n",
      "Price: 50\n",
      "Quantity: 5\n",
      "Total amount: 250\n"
     ]
    }
   ],
   "source": [
    "#arguements should be in order\n",
    "#no.of values passed should be equal to the no.of arguments \n",
    "def grocery_order(customer_name,item_name,price,quantity):\n",
    "    total_cost=price*quantity\n",
    "    print(\"Customer Name:\",customer_name)\n",
    "    print(\"Item Name:\",item_name)\n",
    "    print(\"Price:\",price)\n",
    "    print(\"Quantity:\",quantity)\n",
    "    print(\"Total amount:\",total_cost)\n",
    "\n",
    "grocery_order(\"Bhavana\",\"Maggie\",50,5)\n",
    "    "
   ]
  },
  {
   "cell_type": "markdown",
   "id": "a6169776",
   "metadata": {},
   "source": [
    "# Default Arguments"
   ]
  },
  {
   "cell_type": "code",
   "execution_count": 4,
   "id": "ed064e05",
   "metadata": {
    "scrolled": true
   },
   "outputs": [
    {
     "name": "stdout",
     "output_type": "stream",
     "text": [
      "Customer: Basa\n",
      "Item: Yippe\n",
      "Quantity: 1\n",
      "Delivery: standard\n",
      "-----------------------\n",
      "Customer: Bhavna\n",
      "Item: Cooler\n",
      "Quantity: 2\n",
      "Delivery: Express\n",
      "-----------------------\n"
     ]
    }
   ],
   "source": [
    "#here if an argument is missed, then it takes default value in place of it\n",
    "\n",
    "def place_order(cust_name,items,quan=1,delivery_type='standard'):\n",
    "    print(\"Customer:\",cust_name)\n",
    "    print(\"Item:\",items)\n",
    "    print(\"Quantity:\",quan)\n",
    "    print(\"Delivery:\",delivery_type)\n",
    "    print(\"-----------------------\")\n",
    "    \n",
    "place_order('Basa','Yippe')\n",
    "place_order('Bhavna','Cooler',2,'Express')"
   ]
  },
  {
   "cell_type": "markdown",
   "id": "1cc2b89c",
   "metadata": {},
   "source": [
    "# Keyword Arguments"
   ]
  },
  {
   "cell_type": "code",
   "execution_count": 7,
   "id": "86cec3de",
   "metadata": {},
   "outputs": [
    {
     "name": "stdout",
     "output_type": "stream",
     "text": [
      "Name: Neha\n",
      "Roll_Num: 401\n",
      "Course: Core CSE\n",
      "Date: 2/8/2025\n",
      "Fee: 50000\n",
      "=====================\n",
      "Name: Bhavana\n",
      "Roll_Num: 1\n",
      "Course: AI&ML\n",
      "Date: 5/8/2025\n",
      "Fee: 90000\n",
      "=====================\n"
     ]
    }
   ],
   "source": [
    "#here arguments are passed along with the parameters\n",
    "#order is not mandatory here\n",
    "#no.of parameters and args passed should be matched\n",
    "\n",
    "\n",
    "\n",
    "def enroll(name,no,course,date,fee):\n",
    "    print(\"Name:\",name)\n",
    "    print(\"Roll_Num:\",no)\n",
    "    print(\"Course:\",course)\n",
    "    print(\"Date:\",date)\n",
    "    print(\"Fee:\",fee)\n",
    "    print(\"=====================\")\n",
    "    \n",
    "    \n",
    "enroll('Neha',401,'Core CSE','2/8/2025',50000)\n",
    "enroll(fee=90000,date='5/8/2025',course='AI&ML',no=1,name='Bhavana')"
   ]
  },
  {
   "cell_type": "markdown",
   "id": "24994c77",
   "metadata": {},
   "source": [
    "# Keyword Variable Length Arguments "
   ]
  },
  {
   "cell_type": "code",
   "execution_count": 14,
   "id": "e73a4663",
   "metadata": {},
   "outputs": [
    {
     "name": "stdout",
     "output_type": "stream",
     "text": [
      "Customer Name: Srilu\n",
      "Item price: {'item1': 40, 'item2': 120, 'item3': 566}\n",
      "('item1', 40)\n",
      "('item2', 120)\n",
      "('item3', 566)\n",
      "Total Amount: 726\n",
      "=================\n",
      "Customer Name: Bhavan\n",
      "Item price: {'item1': 90, 'item2': 87, 'item3': 988, 'item4': 99, 'item5': 98}\n",
      "('item1', 90)\n",
      "('item2', 87)\n",
      "('item3', 988)\n",
      "('item4', 99)\n",
      "('item5', 98)\n",
      "Total Amount: 1362\n",
      "=================\n"
     ]
    }
   ],
   "source": [
    "#used when no of parameters are unknown\n",
    "#argument is dynamic **item_price\n",
    "#can assign any no.of values\n",
    "#extra parameters are stored as the dictionary\n",
    "\n",
    "\n",
    "def calculate_total(customer_name,**item_price):\n",
    "    print(\"Customer Name:\",customer_name)\n",
    "    print(\"Item price:\",item_price)\n",
    "    total_amount=0\n",
    "    for item in item_price.items():\n",
    "        print(item)\n",
    "        total_amount+=item[1]\n",
    "    print(\"Total Amount:\",total_amount)\n",
    "    print(\"=================\")\n",
    "        \n",
    "    \n",
    "calculate_total('Srilu',item1=40,item2=120,item3=566)\n",
    "calculate_total('Bhavan',item1=90,item2=87,item3=988,item4=99,item5=98)"
   ]
  },
  {
   "cell_type": "code",
   "execution_count": null,
   "id": "06451a08",
   "metadata": {},
   "outputs": [],
   "source": []
  },
  {
   "cell_type": "code",
   "execution_count": null,
   "id": "a83e2456",
   "metadata": {},
   "outputs": [],
   "source": []
  }
 ],
 "metadata": {
  "kernelspec": {
   "display_name": "Python 3 (ipykernel)",
   "language": "python",
   "name": "python3"
  },
  "language_info": {
   "codemirror_mode": {
    "name": "ipython",
    "version": 3
   },
   "file_extension": ".py",
   "mimetype": "text/x-python",
   "name": "python",
   "nbconvert_exporter": "python",
   "pygments_lexer": "ipython3",
   "version": "3.11.5"
  }
 },
 "nbformat": 4,
 "nbformat_minor": 5
}
