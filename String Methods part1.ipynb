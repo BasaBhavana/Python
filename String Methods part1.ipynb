{
 "cells": [
  {
   "cell_type": "code",
   "execution_count": 3,
   "id": "581af8fb",
   "metadata": {},
   "outputs": [],
   "source": [
    "#The below are the string case-conversion methods\n",
    "\n",
    "announcement=\"Buses will leave by 4PM\"\n",
    "formatted_announcement=announcement.upper()\n",
    "#converts lower case to upper case"
   ]
  },
  {
   "cell_type": "code",
   "execution_count": 4,
   "id": "e18a11f4",
   "metadata": {},
   "outputs": [
    {
     "data": {
      "text/plain": [
       "'BUSES WILL LEAVE BY 4PM'"
      ]
     },
     "execution_count": 4,
     "metadata": {},
     "output_type": "execute_result"
    }
   ],
   "source": [
    "formatted_announcement"
   ]
  },
  {
   "cell_type": "code",
   "execution_count": 5,
   "id": "db80b091",
   "metadata": {},
   "outputs": [
    {
     "data": {
      "text/plain": [
       "'bhavana basa'"
      ]
     },
     "execution_count": 5,
     "metadata": {},
     "output_type": "execute_result"
    }
   ],
   "source": [
    "#converts into lower case\n",
    "name=\"BHAVANA BASA\"\n",
    "n=name.lower()\n",
    "n"
   ]
  },
  {
   "cell_type": "code",
   "execution_count": 6,
   "id": "bd4ad582",
   "metadata": {},
   "outputs": [
    {
     "data": {
      "text/plain": [
       "'Ravi sankar'"
      ]
     },
     "execution_count": 6,
     "metadata": {},
     "output_type": "execute_result"
    }
   ],
   "source": [
    "#capitalizes 1st letter\n",
    "name2='ravi sankar'\n",
    "n2=name2.capitalize()\n",
    "n2"
   ]
  },
  {
   "cell_type": "code",
   "execution_count": 7,
   "id": "45597092",
   "metadata": {},
   "outputs": [
    {
     "data": {
      "text/plain": [
       "'Sri Laxmi'"
      ]
     },
     "execution_count": 7,
     "metadata": {},
     "output_type": "execute_result"
    }
   ],
   "source": [
    "#capitalizes 1st letter of every word\n",
    "name3=\"sri laxmi\"\n",
    "n3=name3.title()\n",
    "n3"
   ]
  },
  {
   "cell_type": "code",
   "execution_count": 8,
   "id": "3d9d1cae",
   "metadata": {},
   "outputs": [
    {
     "data": {
      "text/plain": [
       "'RAvi kIrAn'"
      ]
     },
     "execution_count": 8,
     "metadata": {},
     "output_type": "execute_result"
    }
   ],
   "source": [
    "#converts upper case to lower case & vise-versa\n",
    "name4=\"raVI KiRaN\"\n",
    "n4=name4.swapcase()\n",
    "n4"
   ]
  },
  {
   "cell_type": "code",
   "execution_count": 9,
   "id": "57434d36",
   "metadata": {},
   "outputs": [],
   "source": [
    "#string checking methods\n",
    "#checks whether input \n",
    "#string or not\n",
    "#alphabets or not\n",
    "#numbers or not\n"
   ]
  },
  {
   "cell_type": "code",
   "execution_count": 12,
   "id": "68f7fe51",
   "metadata": {},
   "outputs": [
    {
     "name": "stdout",
     "output_type": "stream",
     "text": [
      "Valid name\n"
     ]
    }
   ],
   "source": [
    "#checks whole string is alphabets or not\n",
    "#it doesn't allow special characters/spaces\n",
    "company='DigitalEdify'\n",
    "if company.isalpha():\n",
    "    print(\"Valid name\")\n",
    "else:\n",
    "    print(\"Invalid name\")"
   ]
  },
  {
   "cell_type": "code",
   "execution_count": 4,
   "id": "1d33982c",
   "metadata": {},
   "outputs": [
    {
     "data": {
      "text/plain": [
       "True"
      ]
     },
     "execution_count": 4,
     "metadata": {},
     "output_type": "execute_result"
    }
   ],
   "source": [
    "#whole stirng is of numbers or not\n",
    "phn_no='8589855236'\n",
    "valid=phn_no.isdigit()\n",
    "valid"
   ]
  },
  {
   "cell_type": "code",
   "execution_count": 6,
   "id": "c45fc6d8",
   "metadata": {},
   "outputs": [
    {
     "data": {
      "text/plain": [
       "True"
      ]
     },
     "execution_count": 6,
     "metadata": {},
     "output_type": "execute_result"
    }
   ],
   "source": [
    "#checks whether the string is alpha numeric or not\n",
    "alphanum='ABCD1234'\n",
    "isvalid=alphanum.isalnum()\n",
    "isvalid"
   ]
  },
  {
   "cell_type": "code",
   "execution_count": 8,
   "id": "0415c0ac",
   "metadata": {},
   "outputs": [
    {
     "name": "stdout",
     "output_type": "stream",
     "text": [
      "valid\n"
     ]
    }
   ],
   "source": [
    "#checks whether the string starts with given input or not\n",
    "mob_no='8341228232'\n",
    "if(mob_no.startswith('8') or mob_no.startswith('9') or mob_no.startswith('7') and mob_no.islen(10)):\n",
    "    print(\"valid\")\n",
    "else:\n",
    "    print(\"invalid\")"
   ]
  },
  {
   "cell_type": "code",
   "execution_count": 9,
   "id": "c3d28101",
   "metadata": {},
   "outputs": [
    {
     "name": "stdout",
     "output_type": "stream",
     "text": [
      "Valid\n"
     ]
    }
   ],
   "source": [
    "#checks whether the string ends with the given input or not\n",
    "email='bhavanabasa123@gmail.com'\n",
    "if email.endswith('@gmail.com'):\n",
    "    print('Valid')\n",
    "else:\n",
    "    print('Invalid')"
   ]
  },
  {
   "cell_type": "code",
   "execution_count": 12,
   "id": "2a15f1f7",
   "metadata": {},
   "outputs": [
    {
     "name": "stdout",
     "output_type": "stream",
     "text": [
      "0 b\n",
      "1 h\n",
      "2 a\n",
      "3 v\n",
      "4 a\n",
      "5 n\n",
      "6 a\n",
      "7 b\n",
      "8 a\n",
      "9 s\n",
      "10 a\n",
      "11 1\n",
      "12 2\n",
      "13 3\n",
      "14 @\n",
      "15 g\n",
      "16 m\n",
      "17 a\n",
      "18 i\n",
      "19 l\n",
      "20 .\n",
      "21 c\n",
      "22 o\n",
      "23 m\n"
     ]
    }
   ],
   "source": [
    "#here enumerate is used to access both index and value\n",
    "gmail='bhavanabasa123@gmail.com'\n",
    "for index,char in enumerate(gmail):\n",
    "    print(index,char)"
   ]
  },
  {
   "cell_type": "code",
   "execution_count": 13,
   "id": "58a54662",
   "metadata": {},
   "outputs": [
    {
     "name": "stdout",
     "output_type": "stream",
     "text": [
      "0 m\n",
      "1 o\n",
      "2 c\n",
      "3 .\n",
      "4 l\n",
      "5 i\n",
      "6 a\n",
      "7 m\n",
      "8 g\n",
      "9 @\n",
      "10 3\n",
      "11 2\n",
      "12 1\n",
      "13 a\n",
      "14 s\n",
      "15 a\n",
      "16 b\n",
      "17 a\n",
      "18 n\n",
      "19 a\n",
      "20 v\n",
      "21 a\n",
      "22 h\n",
      "23 b\n"
     ]
    }
   ],
   "source": [
    "gmail='bhavanabasa123@gmail.com'\n",
    "for index,char in enumerate(reversed(gmail)):\n",
    "    print(index,char)"
   ]
  },
  {
   "cell_type": "code",
   "execution_count": null,
   "id": "fbf9c55e",
   "metadata": {},
   "outputs": [],
   "source": []
  }
 ],
 "metadata": {
  "kernelspec": {
   "display_name": "Python 3 (ipykernel)",
   "language": "python",
   "name": "python3"
  },
  "language_info": {
   "codemirror_mode": {
    "name": "ipython",
    "version": 3
   },
   "file_extension": ".py",
   "mimetype": "text/x-python",
   "name": "python",
   "nbconvert_exporter": "python",
   "pygments_lexer": "ipython3",
   "version": "3.11.5"
  }
 },
 "nbformat": 4,
 "nbformat_minor": 5
}
