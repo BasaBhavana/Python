{
 "cells": [
  {
   "cell_type": "code",
   "execution_count": 2,
   "id": "8fef0e64",
   "metadata": {},
   "outputs": [
    {
     "name": "stdout",
     "output_type": "stream",
     "text": [
      "True\n",
      "False\n"
     ]
    },
    {
     "name": "stderr",
     "output_type": "stream",
     "text": [
      "<>:4: SyntaxWarning: \"is\" with a literal. Did you mean \"==\"?\n",
      "<>:5: SyntaxWarning: \"is not\" with a literal. Did you mean \"!=\"?\n",
      "<>:4: SyntaxWarning: \"is\" with a literal. Did you mean \"==\"?\n",
      "<>:5: SyntaxWarning: \"is not\" with a literal. Did you mean \"!=\"?\n",
      "C:\\Users\\bhava\\AppData\\Local\\Temp\\ipykernel_7724\\2188990939.py:4: SyntaxWarning: \"is\" with a literal. Did you mean \"==\"?\n",
      "  print(a is 10)\n",
      "C:\\Users\\bhava\\AppData\\Local\\Temp\\ipykernel_7724\\2188990939.py:5: SyntaxWarning: \"is not\" with a literal. Did you mean \"!=\"?\n",
      "  print(a is not 10)\n"
     ]
    }
   ],
   "source": [
    "#special operators\n",
    "#indentity operators is,is not:decides a value belongs to an object or not\n",
    "a=10\n",
    "print(a is 10)\n",
    "print(a is not 10)"
   ]
  },
  {
   "cell_type": "code",
   "execution_count": 3,
   "id": "0d7e35a1",
   "metadata": {},
   "outputs": [
    {
     "name": "stdout",
     "output_type": "stream",
     "text": [
      "True\n"
     ]
    }
   ],
   "source": [
    "a=b=10\n",
    "print(a is b)"
   ]
  },
  {
   "cell_type": "code",
   "execution_count": 4,
   "id": "fc444bef",
   "metadata": {},
   "outputs": [
    {
     "name": "stdout",
     "output_type": "stream",
     "text": [
      "False\n",
      "True\n"
     ]
    }
   ],
   "source": [
    "#membership operators in,not in:Tests a value is member of sequence or not\n",
    "lst=[12,34,56,76]\n",
    "print(5 in lst)\n",
    "print(5 not in lst)"
   ]
  },
  {
   "cell_type": "markdown",
   "id": "f4b91c13",
   "metadata": {},
   "source": [
    "# import modulename"
   ]
  },
  {
   "cell_type": "code",
   "execution_count": 6,
   "id": "d9011eac",
   "metadata": {},
   "outputs": [
    {
     "name": "stdout",
     "output_type": "stream",
     "text": [
      "pi: 3.141592653589793\n",
      "e: 2.718281828459045\n"
     ]
    }
   ],
   "source": [
    "import math\n",
    "print(\"pi:\",math.pi)\n",
    "print(\"e:\",math.e)\n"
   ]
  },
  {
   "cell_type": "markdown",
   "id": "3f276420",
   "metadata": {},
   "source": [
    "# Defining alias name for the module"
   ]
  },
  {
   "cell_type": "code",
   "execution_count": 7,
   "id": "bab2e1da",
   "metadata": {},
   "outputs": [
    {
     "name": "stdout",
     "output_type": "stream",
     "text": [
      "pi= 3.141592653589793\n",
      "Factorial= 120\n"
     ]
    }
   ],
   "source": [
    "import math as m\n",
    "print(\"pi=\",m.pi)\n",
    "print(\"Factorial=\",m.factorial(5))"
   ]
  },
  {
   "cell_type": "markdown",
   "id": "694d5373",
   "metadata": {},
   "source": [
    "# eval():used to evaluate a string representation of an expression directly"
   ]
  },
  {
   "cell_type": "code",
   "execution_count": 8,
   "id": "b2147eb5",
   "metadata": {},
   "outputs": [
    {
     "name": "stdout",
     "output_type": "stream",
     "text": [
      "150\n"
     ]
    }
   ],
   "source": [
    "n=eval(\"10+20+30+40+50\")\n",
    "print(n)"
   ]
  },
  {
   "cell_type": "code",
   "execution_count": 9,
   "id": "63b5ea27",
   "metadata": {},
   "outputs": [
    {
     "name": "stdout",
     "output_type": "stream",
     "text": [
      "3\n"
     ]
    }
   ],
   "source": [
    "x=eval(\"10**3\")\n",
    "print(3)"
   ]
  },
  {
   "cell_type": "markdown",
   "id": "c22f2259",
   "metadata": {},
   "source": [
    "# del():used to delete object or variable\n"
   ]
  },
  {
   "cell_type": "code",
   "execution_count": 13,
   "id": "4c45d3d2",
   "metadata": {},
   "outputs": [
    {
     "name": "stdout",
     "output_type": "stream",
     "text": [
      "10\n"
     ]
    }
   ],
   "source": [
    "a=10\n",
    "print(a)\n",
    "\n"
   ]
  },
  {
   "cell_type": "code",
   "execution_count": 14,
   "id": "c109ff1a",
   "metadata": {},
   "outputs": [
    {
     "ename": "NameError",
     "evalue": "name 'a' is not defined",
     "output_type": "error",
     "traceback": [
      "\u001b[1;31m---------------------------------------------------------------------------\u001b[0m",
      "\u001b[1;31mNameError\u001b[0m                                 Traceback (most recent call last)",
      "Cell \u001b[1;32mIn[14], line 2\u001b[0m\n\u001b[0;32m      1\u001b[0m \u001b[38;5;28;01mdel\u001b[39;00m a\n\u001b[1;32m----> 2\u001b[0m \u001b[38;5;28mprint\u001b[39m(a)\n",
      "\u001b[1;31mNameError\u001b[0m: name 'a' is not defined"
     ]
    }
   ],
   "source": [
    "del a\n",
    "print(a)"
   ]
  },
  {
   "cell_type": "code",
   "execution_count": null,
   "id": "913f33f0",
   "metadata": {},
   "outputs": [],
   "source": []
  }
 ],
 "metadata": {
  "kernelspec": {
   "display_name": "Python 3 (ipykernel)",
   "language": "python",
   "name": "python3"
  },
  "language_info": {
   "codemirror_mode": {
    "name": "ipython",
    "version": 3
   },
   "file_extension": ".py",
   "mimetype": "text/x-python",
   "name": "python",
   "nbconvert_exporter": "python",
   "pygments_lexer": "ipython3",
   "version": "3.11.5"
  }
 },
 "nbformat": 4,
 "nbformat_minor": 5
}
