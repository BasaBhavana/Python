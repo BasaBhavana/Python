{
 "cells": [
  {
   "cell_type": "code",
   "execution_count": 1,
   "id": "9c491692",
   "metadata": {},
   "outputs": [],
   "source": [
    "#haves set of values\n",
    "#cant be modified\n",
    "#immutable version of set datatype"
   ]
  },
  {
   "cell_type": "code",
   "execution_count": 2,
   "id": "42481801",
   "metadata": {},
   "outputs": [
    {
     "name": "stdout",
     "output_type": "stream",
     "text": [
      "frozenset({1, 2, 3, 4, 5})\n"
     ]
    }
   ],
   "source": [
    "#syntax: variable=frozenset([val1,val2...........valn])\n",
    "frozen_set = frozenset([1, 2, 3, 4, 5])\n",
    "print(frozen_set) "
   ]
  },
  {
   "cell_type": "code",
   "execution_count": 3,
   "id": "fc45fa1a",
   "metadata": {},
   "outputs": [
    {
     "ename": "AttributeError",
     "evalue": "'frozenset' object has no attribute 'add'",
     "output_type": "error",
     "traceback": [
      "\u001b[1;31m---------------------------------------------------------------------------\u001b[0m",
      "\u001b[1;31mAttributeError\u001b[0m                            Traceback (most recent call last)",
      "Cell \u001b[1;32mIn[3], line 1\u001b[0m\n\u001b[1;32m----> 1\u001b[0m frozen_set\u001b[38;5;241m.\u001b[39madd(\u001b[38;5;241m2\u001b[39m)\n\u001b[0;32m      2\u001b[0m frozen_set\n",
      "\u001b[1;31mAttributeError\u001b[0m: 'frozenset' object has no attribute 'add'"
     ]
    }
   ],
   "source": [
    "frozen_set.add(2)\n",
    "frozen_set"
   ]
  },
  {
   "cell_type": "code",
   "execution_count": null,
   "id": "5d69a146",
   "metadata": {},
   "outputs": [],
   "source": []
  }
 ],
 "metadata": {
  "kernelspec": {
   "display_name": "Python 3 (ipykernel)",
   "language": "python",
   "name": "python3"
  },
  "language_info": {
   "codemirror_mode": {
    "name": "ipython",
    "version": 3
   },
   "file_extension": ".py",
   "mimetype": "text/x-python",
   "name": "python",
   "nbconvert_exporter": "python",
   "pygments_lexer": "ipython3",
   "version": "3.11.5"
  }
 },
 "nbformat": 4,
 "nbformat_minor": 5
}
