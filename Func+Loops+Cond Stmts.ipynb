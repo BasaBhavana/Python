{
 "cells": [
  {
   "cell_type": "code",
   "execution_count": 14,
   "id": "c0f13c5b",
   "metadata": {},
   "outputs": [
    {
     "data": {
      "text/plain": [
       "'Create a function to calculate total amount of all the products available in cart list.\\nIf Cart value is greater than 5000 - 10% Discount\\nIf Cart value is greater than 2500 - 5% Discount\\nIf Cart value is greater than 1000 - 2% Discount'"
      ]
     },
     "execution_count": 14,
     "metadata": {},
     "output_type": "execute_result"
    }
   ],
   "source": [
    "\"\"\"cart = [\n",
    "    {\"id\": 1, \"name\": \"Laptop\", \"price\": 5000, \"quantity\": 1, \"total\": 55000},\n",
    "    {\"id\": 2, \"name\": \"Smartphone\", \"price\": 2000, \"quantity\": 2, \"total\": 40000},\n",
    "    {\"id\": 3, \"name\": \"Headphones\", \"price\": 1500, \"quantity\": 3, \"total\": 4500},\n",
    "    {\"id\": 4, \"name\": \"Keyboard\", \"price\": 1200, \"quantity\": 1, \"total\": 1200},\n",
    "    {\"id\": 5, \"name\": \"Monitor\", \"price\": 1000, \"quantity\": 2, \"total\": 16000}\n",
    "]\"\"\"\n",
    "\"\"\"Create a function to calculate total amount of all the products available in cart list.\n",
    "If Cart value is greater than 5000 - 10% Discount\n",
    "If Cart value is greater than 2500 - 5% Discount\n",
    "If Cart value is greater than 1000 - 2% Discount\"\"\""
   ]
  },
  {
   "cell_type": "code",
   "execution_count": null,
   "id": "f81febc6",
   "metadata": {},
   "outputs": [],
   "source": []
  },
  {
   "cell_type": "code",
   "execution_count": null,
   "id": "b8da2bfb",
   "metadata": {},
   "outputs": [],
   "source": []
  },
  {
   "cell_type": "code",
   "execution_count": 10,
   "id": "41d4efc8",
   "metadata": {},
   "outputs": [
    {
     "name": "stdout",
     "output_type": "stream",
     "text": [
      "Total Amount: 13500\n",
      "Discounted Amount:  12150.0\n"
     ]
    }
   ],
   "source": [
    "def calculate_total_amount(t_cart):\n",
    "    total_amount = 0\n",
    "    for item in t_cart:\n",
    "        total_amount = total_amount + item['price'] * item['quantity']\n",
    "    return total_amount\n",
    "\n",
    "def calculate_discounted_amount(total_amount):\n",
    "    discounted_amount = 0\n",
    "    if total_amount >= 5000:\n",
    "        discounted_amount = total_amount - (total_amount * 10) / 100\n",
    "    elif total_amount >= 2500:\n",
    "        discounted_amount = total_amount - (total_amount * 5) / 100\n",
    "    elif total_amount >= 1000:\n",
    "        discounted_amount = total_amount - (total_amount * 2) / 100\n",
    "    else:\n",
    "        discounted_amount = total_amount\n",
    "\n",
    "    return discounted_amount\n",
    "\n",
    "\n",
    "def main():\n",
    "    cart = [\n",
    "        {\"id\": 1, \"name\": \"Laptop\", \"price\": 5000, \"quantity\": 1 },\n",
    "        {\"id\": 2, \"name\": \"Smartphone\", \"price\": 2000, \"quantity\": 2},\n",
    "        {\"id\": 3, \"name\": \"Headphones\", \"price\": 1500, \"quantity\": 3},\n",
    "    ]\n",
    "    total_amount = calculate_total_amount(cart)\n",
    "    print('Total Amount:', total_amount)\n",
    "\n",
    "    discounted_amount = calculate_discounted_amount(total_amount)\n",
    "\n",
    "    print('Discounted Amount: ',discounted_amount)\n",
    "\n",
    "main()"
   ]
  },
  {
   "cell_type": "code",
   "execution_count": null,
   "id": "7c5df29f",
   "metadata": {},
   "outputs": [],
   "source": []
  }
 ],
 "metadata": {
  "kernelspec": {
   "display_name": "Python 3 (ipykernel)",
   "language": "python",
   "name": "python3"
  },
  "language_info": {
   "codemirror_mode": {
    "name": "ipython",
    "version": 3
   },
   "file_extension": ".py",
   "mimetype": "text/x-python",
   "name": "python",
   "nbconvert_exporter": "python",
   "pygments_lexer": "ipython3",
   "version": "3.11.5"
  }
 },
 "nbformat": 4,
 "nbformat_minor": 5
}
