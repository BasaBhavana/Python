{
 "cells": [
  {
   "cell_type": "markdown",
   "id": "7daacadf",
   "metadata": {},
   "source": [
    "# Collection Literals:Group of items"
   ]
  },
  {
   "cell_type": "markdown",
   "id": "77c813cd",
   "metadata": {},
   "source": [
    "# List:Items enclosed in [] "
   ]
  },
  {
   "cell_type": "code",
   "execution_count": 1,
   "id": "3389c538",
   "metadata": {},
   "outputs": [
    {
     "name": "stdout",
     "output_type": "stream",
     "text": [
      "[1, 2, 3, 4]\n"
     ]
    }
   ],
   "source": [
    "nums=[1,2,3,4]\n",
    "print(nums)"
   ]
  },
  {
   "cell_type": "code",
   "execution_count": 2,
   "id": "c8c17e5f",
   "metadata": {},
   "outputs": [
    {
     "data": {
      "text/plain": [
       "[100, 'Bhavana', 'Program', 10.2]"
      ]
     },
     "execution_count": 2,
     "metadata": {},
     "output_type": "execute_result"
    }
   ],
   "source": [
    "data=[100,\"Bhavana\",\"Program\",10.20]\n",
    "data"
   ]
  },
  {
   "cell_type": "markdown",
   "id": "0ebbb959",
   "metadata": {},
   "source": [
    "# Tuple:Items enclosed in ()"
   ]
  },
  {
   "cell_type": "code",
   "execution_count": 3,
   "id": "9f9c0620",
   "metadata": {},
   "outputs": [
    {
     "data": {
      "text/plain": [
       "(1, 2, 3, 4)"
      ]
     },
     "execution_count": 3,
     "metadata": {},
     "output_type": "execute_result"
    }
   ],
   "source": [
    "t1=(1,2,3,4)\n",
    "t1"
   ]
  },
  {
   "cell_type": "code",
   "execution_count": 4,
   "id": "976dd260",
   "metadata": {},
   "outputs": [
    {
     "data": {
      "text/plain": [
       "(1, 'Bhavana', 12.89)"
      ]
     },
     "execution_count": 4,
     "metadata": {},
     "output_type": "execute_result"
    }
   ],
   "source": [
    "t2=(1,\"Bhavana\",12.890)\n",
    "t2"
   ]
  },
  {
   "cell_type": "markdown",
   "id": "ed604dc1",
   "metadata": {},
   "source": [
    "# Set:Items enclosed in {}"
   ]
  },
  {
   "cell_type": "code",
   "execution_count": 5,
   "id": "af2e2173",
   "metadata": {},
   "outputs": [
    {
     "data": {
      "text/plain": [
       "{1, 2, 3, 4, 5}"
      ]
     },
     "execution_count": 5,
     "metadata": {},
     "output_type": "execute_result"
    }
   ],
   "source": [
    "t1={1,2,3,4,5}\n",
    "t1"
   ]
  },
  {
   "cell_type": "code",
   "execution_count": 6,
   "id": "5c7ec110",
   "metadata": {},
   "outputs": [
    {
     "data": {
      "text/plain": [
       "{'apple', 'banana'}"
      ]
     },
     "execution_count": 6,
     "metadata": {},
     "output_type": "execute_result"
    }
   ],
   "source": [
    "t2={\"apple\",\"banana\"}\n",
    "t2"
   ]
  },
  {
   "cell_type": "markdown",
   "id": "521352f5",
   "metadata": {},
   "source": [
    "# Dictionary:Similar to set object, stores values as key:value pairs"
   ]
  },
  {
   "cell_type": "code",
   "execution_count": 7,
   "id": "2dfd682e",
   "metadata": {},
   "outputs": [
    {
     "name": "stdout",
     "output_type": "stream",
     "text": [
      "{'a': 'apple', 'b': 'banana'}\n"
     ]
    }
   ],
   "source": [
    "s1={'a':\"apple\",'b':\"banana\"}\n",
    "print(s1)"
   ]
  },
  {
   "cell_type": "code",
   "execution_count": 8,
   "id": "574905b5",
   "metadata": {},
   "outputs": [
    {
     "data": {
      "text/plain": [
       "{'a': 101, 'b': 'Devi'}"
      ]
     },
     "execution_count": 8,
     "metadata": {},
     "output_type": "execute_result"
    }
   ],
   "source": [
    "s2={'a':101,'b':'Devi'}\n",
    "s2"
   ]
  },
  {
   "cell_type": "code",
   "execution_count": null,
   "id": "96153ace",
   "metadata": {},
   "outputs": [],
   "source": []
  }
 ],
 "metadata": {
  "kernelspec": {
   "display_name": "Python 3 (ipykernel)",
   "language": "python",
   "name": "python3"
  },
  "language_info": {
   "codemirror_mode": {
    "name": "ipython",
    "version": 3
   },
   "file_extension": ".py",
   "mimetype": "text/x-python",
   "name": "python",
   "nbconvert_exporter": "python",
   "pygments_lexer": "ipython3",
   "version": "3.11.5"
  }
 },
 "nbformat": 4,
 "nbformat_minor": 5
}
