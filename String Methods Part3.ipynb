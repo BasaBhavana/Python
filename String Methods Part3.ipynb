{
 "cells": [
  {
   "cell_type": "code",
   "execution_count": 3,
   "id": "ed229a70",
   "metadata": {},
   "outputs": [
    {
     "data": {
      "text/plain": [
       "['831', '1228', '232']"
      ]
     },
     "execution_count": 3,
     "metadata": {},
     "output_type": "execute_result"
    }
   ],
   "source": [
    "#Spliting and joining\n",
    "#split function is used to split the string based on the given separator\n",
    "#syntax: string.split(separator)\n",
    "\n",
    "\n",
    "phn_no='831-1228-232'\n",
    "split_function=phn_no.split('-')\n",
    "split_function"
   ]
  },
  {
   "cell_type": "code",
   "execution_count": 5,
   "id": "7a7c276d",
   "metadata": {},
   "outputs": [
    {
     "data": {
      "text/plain": [
       "'******753'"
      ]
     },
     "execution_count": 5,
     "metadata": {},
     "output_type": "execute_result"
    }
   ],
   "source": [
    "phn_no1='785-8525-753'\n",
    "split_function=phn_no1.split('-')\n",
    "'*' * 6 + split_function[2]"
   ]
  },
  {
   "cell_type": "code",
   "execution_count": 10,
   "id": "93f499c1",
   "metadata": {},
   "outputs": [
    {
     "data": {
      "text/plain": [
       "['Pipul Road',\n",
       " 'Singh Nagar',\n",
       " 'Santhi Nagar',\n",
       " 'Vijayawada',\n",
       " 'NTR District',\n",
       " 'AP']"
      ]
     },
     "execution_count": 10,
     "metadata": {},
     "output_type": "execute_result"
    }
   ],
   "source": [
    "#splitting the string based on comma separator\n",
    "address='Pipul Road,Singh Nagar,Santhi Nagar,Vijayawada,NTR District,AP'\n",
    "a=address.split(',')\n",
    "a"
   ]
  },
  {
   "cell_type": "code",
   "execution_count": 11,
   "id": "a3260c05",
   "metadata": {},
   "outputs": [
    {
     "data": {
      "text/plain": [
       "'bhavanabasa123@gmail.com'"
      ]
     },
     "execution_count": 11,
     "metadata": {},
     "output_type": "execute_result"
    }
   ],
   "source": [
    "#trimming\n",
    "#string.strip(): used to remove the spaces above and after the string\n",
    "\n",
    "gmail='     bhavanabasa123@gmail.com  '\n",
    "stripped=gmail.strip()\n",
    "stripped"
   ]
  },
  {
   "cell_type": "code",
   "execution_count": null,
   "id": "330791f9",
   "metadata": {},
   "outputs": [],
   "source": []
  },
  {
   "cell_type": "code",
   "execution_count": null,
   "id": "f69a510a",
   "metadata": {},
   "outputs": [],
   "source": []
  }
 ],
 "metadata": {
  "kernelspec": {
   "display_name": "Python 3 (ipykernel)",
   "language": "python",
   "name": "python3"
  },
  "language_info": {
   "codemirror_mode": {
    "name": "ipython",
    "version": 3
   },
   "file_extension": ".py",
   "mimetype": "text/x-python",
   "name": "python",
   "nbconvert_exporter": "python",
   "pygments_lexer": "ipython3",
   "version": "3.11.5"
  }
 },
 "nbformat": 4,
 "nbformat_minor": 5
}
