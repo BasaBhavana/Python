{
 "cells": [
  {
   "cell_type": "markdown",
   "id": "f2c7dc5d",
   "metadata": {},
   "source": [
    "# Opening Files"
   ]
  },
  {
   "cell_type": "code",
   "execution_count": 15,
   "id": "3a43f5e5",
   "metadata": {},
   "outputs": [],
   "source": [
    "\n",
    "file=open('problem_statement.txt','r')\n",
    "\n",
    "#file_content=file.read()\n",
    "\n",
    "#print(file_content)\n"
   ]
  },
  {
   "cell_type": "code",
   "execution_count": null,
   "id": "ddffcffa",
   "metadata": {},
   "outputs": [],
   "source": []
  },
  {
   "cell_type": "code",
   "execution_count": 16,
   "id": "0917bd0c",
   "metadata": {},
   "outputs": [
    {
     "data": {
      "text/plain": [
       "'Case Study: Diabetes Risk Prediction\\n'"
      ]
     },
     "execution_count": 16,
     "metadata": {},
     "output_type": "execute_result"
    }
   ],
   "source": [
    "one=file.readline()\n",
    "one"
   ]
  },
  {
   "cell_type": "code",
   "execution_count": 17,
   "id": "ab5e25e4",
   "metadata": {},
   "outputs": [
    {
     "data": {
      "text/plain": [
       "['Context:\\n',\n",
       " 'Diabetes is one of the most frequent diseases worldwide and the number of diabetic patients is growing over the years. The main cause of diabetes remains unknown, yet scientists believe that both genetic factors and environmental lifestyle play a major role in diabetes.\\n',\n",
       " '\\n',\n",
       " \"Individuals with diabetes face a risk of developing some secondary health issues such as heart diseases and nerve damage. Thus, early detection and treatment of diabetes can prevent complications and assist in reducing the risk of severe health problems. Even though it's incurable, it can be managed by treatment and medication.\\n\",\n",
       " '\\n',\n",
       " 'Researchers at the Bio-Solutions lab want to get a better understanding of this disease among women and are planning to use machine learning models that will help them to identify patients who are at risk of diabetes.\\n',\n",
       " '\\n',\n",
       " 'You as a data scientist at Bio-Solutions have to build a classification model using a dataset collected by the \"National Institute of Diabetes and Digestive and Kidney Diseases\" consisting of several attributes that would help to identify whether a person is at risk of diabetes or not.\\n',\n",
       " '\\n',\n",
       " 'Objective:\\n',\n",
       " 'The data-set aims to answer the following key questions:\\n',\n",
       " '\\n',\n",
       " 'What are the different factors that can help in identifying whether a person is at risk of diabetes or not?\\n',\n",
       " '\\n',\n",
       " 'Can we build a model to identify persons who are at risk of diabetes? What should be the metric of choice to evaluate such a model?\\n',\n",
       " '\\n',\n",
       " 'Attribute Information:\\n',\n",
       " 'Pregnancies: Number of times pregnant\\n',\n",
       " '\\n',\n",
       " 'Glucose: Plasma glucose concentration over 2 hours in an oral glucose tolerance test\\n',\n",
       " '\\n',\n",
       " 'BloodPressure: Diastolic blood pressure (mm Hg)\\n',\n",
       " '\\n',\n",
       " 'SkinThickness: Triceps skinfold thickness (mm)\\n',\n",
       " '\\n',\n",
       " 'Insulin: 2-Hour serum insulin (mu U/ml)\\n',\n",
       " '\\n',\n",
       " 'BMI: Body mass index (weight in kg/(height in m)^2)\\n',\n",
       " '\\n',\n",
       " 'Pedigree: Diabetes pedigree function - A function that scores likelihood of diabetes based on family history.\\n',\n",
       " '\\n',\n",
       " 'Age: Age in years\\n',\n",
       " '\\n',\n",
       " 'Class: Class variable (0: the person is not diabetic or 1: the person is diabetic)\\n',\n",
       " '\\n',\n",
       " 'Learning Outcomes:\\n',\n",
       " 'Exploratory Data Analysis\\n',\n",
       " '\\n',\n",
       " 'Preparing the data to train a model\\n',\n",
       " '\\n',\n",
       " 'Training and understanding of data using ensemble models\\n',\n",
       " '\\n',\n",
       " 'Model evaluation\\n',\n",
       " '\\n',\n",
       " 'Steps and Tasks:\\n',\n",
       " 'Import Libraries and Load Dataset\\n',\n",
       " '\\n',\n",
       " 'Overview of data\\n',\n",
       " '\\n',\n",
       " 'Data Visualization\\n',\n",
       " '\\n',\n",
       " 'Data preparation\\n',\n",
       " '\\n',\n",
       " 'Choose Model, Train, and Evaluate\\n',\n",
       " '\\n',\n",
       " 'Conclusion']"
      ]
     },
     "execution_count": 17,
     "metadata": {},
     "output_type": "execute_result"
    }
   ],
   "source": [
    "more=file.readlines()\n",
    "more"
   ]
  },
  {
   "cell_type": "code",
   "execution_count": 18,
   "id": "f73b0b82",
   "metadata": {},
   "outputs": [],
   "source": [
    "#append() add new data to file"
   ]
  },
  {
   "cell_type": "code",
   "execution_count": 19,
   "id": "796ac1e2",
   "metadata": {},
   "outputs": [
    {
     "name": "stdout",
     "output_type": "stream",
     "text": [
      "\n"
     ]
    }
   ],
   "source": [
    "#approach2\n",
    "\n",
    "with open('problem_statement.txt','r') as files:\n",
    "    content=file.read()\n",
    "print(content)"
   ]
  },
  {
   "cell_type": "code",
   "execution_count": 21,
   "id": "70761457",
   "metadata": {},
   "outputs": [],
   "source": [
    "#writing a file\n",
    "\n",
    "file=open('sample.txt','w')\n",
    "file.write('Python programming\\n')\n",
    "file.write('Variables\\n')\n",
    "file.close()"
   ]
  },
  {
   "cell_type": "code",
   "execution_count": null,
   "id": "fabc5b4d",
   "metadata": {},
   "outputs": [],
   "source": [
    "courses={\n",
    "    \"Python\\n\",\n",
    "    \"Machine Learning\\n\",\n",
    "    \"Deep Learning\\n\",\n",
    "    \"NLP\",\n",
    "    \"AI\"\n",
    "}\n",
    "\n",
    "with open('sample.txt','w') as files:\n",
    "    file.write('List of courses\\n')\n",
    "    file.writelines(courses)"
   ]
  },
  {
   "cell_type": "code",
   "execution_count": 29,
   "id": "28544a53",
   "metadata": {},
   "outputs": [],
   "source": [
    "#binary files: images,clippings"
   ]
  },
  {
   "cell_type": "code",
   "execution_count": 30,
   "id": "2d222d57",
   "metadata": {
    "collapsed": true
   },
   "outputs": [
    {
     "name": "stderr",
     "output_type": "stream",
     "text": [
      "IOPub data rate exceeded.\n",
      "The notebook server will temporarily stop sending output\n",
      "to the client in order to avoid crashing it.\n",
      "To change this limit, set the config variable\n",
      "`--NotebookApp.iopub_data_rate_limit`.\n",
      "\n",
      "Current values:\n",
      "NotebookApp.iopub_data_rate_limit=1000000.0 (bytes/sec)\n",
      "NotebookApp.rate_limit_window=3.0 (secs)\n",
      "\n"
     ]
    }
   ],
   "source": [
    "with open('sample.png','rb') as img:\n",
    "    data=img.read()\n",
    "    print(data)"
   ]
  },
  {
   "cell_type": "markdown",
   "id": "77e38958",
   "metadata": {},
   "source": [
    "# CSV:Comma Separated Values\n",
    "    \n"
   ]
  },
  {
   "cell_type": "code",
   "execution_count": 31,
   "id": "b387c7d9",
   "metadata": {},
   "outputs": [
    {
     "name": "stdout",
     "output_type": "stream",
     "text": [
      "['id', 'name', 'age', 'department', 'salary', 'joining_date']\n",
      "['1', 'Alice', '28', 'IT', '55000', '2020-05-12']\n",
      "['2', 'Bob', '34', 'HR', '48000', '2018-11-03']\n",
      "['3', 'Charlie', '29', 'Finance', '60000', '2019-07-19']\n",
      "['4', 'Diana', '42', 'Marketing', '72000', '2015-03-21']\n",
      "['5', 'Edward', '25', 'IT', '51000', '2021-09-14']\n",
      "['6', 'Fiona', '31', 'Finance', '65000', '2017-06-10']\n",
      "['7', 'George', '38', 'Operations', '58000', '2016-08-25']\n",
      "['8', 'Helen', '27', 'IT', '47000', '2022-01-08']\n",
      "['9', 'Ian', '36', 'HR', '53000', '2019-12-17']\n",
      "['10', 'Julia', '30', 'Marketing', '69000', '2020-02-29']\n"
     ]
    }
   ],
   "source": [
    "#read data as list\n",
    "\n",
    "import csv\n",
    "with open('sample.csv','r') as file:\n",
    "    reader=csv.reader(file)\n",
    "    for row in reader:\n",
    "        print(row)"
   ]
  },
  {
   "cell_type": "code",
   "execution_count": 32,
   "id": "09d1fbcb",
   "metadata": {},
   "outputs": [
    {
     "name": "stdout",
     "output_type": "stream",
     "text": [
      "{'id': '1', 'name': 'Alice', 'age': '28', 'department': 'IT', 'salary': '55000', 'joining_date': '2020-05-12'}\n",
      "{'id': '2', 'name': 'Bob', 'age': '34', 'department': 'HR', 'salary': '48000', 'joining_date': '2018-11-03'}\n",
      "{'id': '3', 'name': 'Charlie', 'age': '29', 'department': 'Finance', 'salary': '60000', 'joining_date': '2019-07-19'}\n",
      "{'id': '4', 'name': 'Diana', 'age': '42', 'department': 'Marketing', 'salary': '72000', 'joining_date': '2015-03-21'}\n",
      "{'id': '5', 'name': 'Edward', 'age': '25', 'department': 'IT', 'salary': '51000', 'joining_date': '2021-09-14'}\n",
      "{'id': '6', 'name': 'Fiona', 'age': '31', 'department': 'Finance', 'salary': '65000', 'joining_date': '2017-06-10'}\n",
      "{'id': '7', 'name': 'George', 'age': '38', 'department': 'Operations', 'salary': '58000', 'joining_date': '2016-08-25'}\n",
      "{'id': '8', 'name': 'Helen', 'age': '27', 'department': 'IT', 'salary': '47000', 'joining_date': '2022-01-08'}\n",
      "{'id': '9', 'name': 'Ian', 'age': '36', 'department': 'HR', 'salary': '53000', 'joining_date': '2019-12-17'}\n",
      "{'id': '10', 'name': 'Julia', 'age': '30', 'department': 'Marketing', 'salary': '69000', 'joining_date': '2020-02-29'}\n"
     ]
    }
   ],
   "source": [
    "#read data as dictionary\n",
    "\n",
    "import csv\n",
    "with open('sample.csv','r') as file:\n",
    "    reader=csv.DictReader(file)\n",
    "    for row in reader:\n",
    "        print(row)"
   ]
  },
  {
   "cell_type": "code",
   "execution_count": null,
   "id": "8dca2129",
   "metadata": {},
   "outputs": [],
   "source": []
  },
  {
   "cell_type": "code",
   "execution_count": null,
   "id": "4d4bd3bb",
   "metadata": {},
   "outputs": [],
   "source": [
    "#for writing\n",
    "\n",
    "with open('sample.csv','r') as file:\n",
    "    writer=csv.writer(file)\n",
    "    writer=writerows(sample)"
   ]
  },
  {
   "cell_type": "code",
   "execution_count": 38,
   "id": "d33c3a8f",
   "metadata": {},
   "outputs": [],
   "source": [
    "users_extra = [\n",
    "    {\"id\": 16, \"name\": \"Neha Ramesh\", \"email\": \"neha.ramesh@example.com\", \"phone\": \"+91-9554433221\", \"age\": 27},\n",
    "    {\"id\": 17, \"name\": \"Vikram Desai\", \"email\": \"vikram.desai@example.com\", \"phone\": \"+91-9443322110\", \"age\": 34},\n",
    "    {\"id\": 18, \"name\": \"Pooja Malhotra\", \"email\": \"pooja.malhotra@example.com\", \"phone\": \"+91-9332211009\", \"age\": 25},\n",
    "    {\"id\": 19, \"name\": \"Siddharth Menon\", \"email\": \"siddharth.menon@example.com\", \"phone\": \"+91-9221100998\", \"age\": 32},\n",
    "    {\"id\": 20, \"name\": \"Ritika Agarwal\", \"email\": \"ritika.agarwal@example.com\", \"phone\": \"+91-9110099887\", \"age\": 29}\n",
    "]\n",
    "\n",
    "fieldnames = ['id', 'name', 'email', 'phone', 'age']\n",
    "\n"
   ]
  },
  {
   "cell_type": "code",
   "execution_count": 39,
   "id": "b137b0aa",
   "metadata": {},
   "outputs": [],
   "source": [
    "with open('users.csv', 'a') as file:\n",
    "    writer = csv.DictWriter(file, fieldnames=fieldnames)\n",
    "    writer.writerows(users_extra)"
   ]
  },
  {
   "cell_type": "code",
   "execution_count": null,
   "id": "051fa553",
   "metadata": {},
   "outputs": [],
   "source": []
  },
  {
   "cell_type": "code",
   "execution_count": null,
   "id": "2d825bf6",
   "metadata": {},
   "outputs": [],
   "source": []
  }
 ],
 "metadata": {
  "kernelspec": {
   "display_name": "Python 3 (ipykernel)",
   "language": "python",
   "name": "python3"
  },
  "language_info": {
   "codemirror_mode": {
    "name": "ipython",
    "version": 3
   },
   "file_extension": ".py",
   "mimetype": "text/x-python",
   "name": "python",
   "nbconvert_exporter": "python",
   "pygments_lexer": "ipython3",
   "version": "3.11.5"
  }
 },
 "nbformat": 4,
 "nbformat_minor": 5
}
