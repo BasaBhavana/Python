{
 "cells": [
  {
   "cell_type": "code",
   "execution_count": 3,
   "id": "e75e2777",
   "metadata": {},
   "outputs": [
    {
     "name": "stdout",
     "output_type": "stream",
     "text": [
      "1\n",
      "2\n",
      "3\n",
      "4\n"
     ]
    }
   ],
   "source": [
    "#for loop\n",
    "#range is a pre-defined function\n",
    "#prints 0 to n-1 values\n",
    "#here i is varaible\n",
    "for i in range(1,5):\n",
    "    print(i)\n",
    "    "
   ]
  },
  {
   "cell_type": "code",
   "execution_count": 6,
   "id": "2ad72658",
   "metadata": {
    "scrolled": true
   },
   "outputs": [
    {
     "name": "stdout",
     "output_type": "stream",
     "text": [
      "Enter the no.of students2\n",
      "Enter the name of the studentbhavana\n",
      "Enter the marks of student78\n",
      "bhavana 78\n",
      "Marks scored and grade received: 78 B\n",
      "Enter the name of the studentjaanu\n",
      "Enter the marks of student20\n",
      "jaanu 20\n",
      "Marks scored and grade received: 20 E\n"
     ]
    }
   ],
   "source": [
    "#calculate grade for each student using marks\n",
    "num_of_stds=int(input(\"Enter the no.of students\"))\n",
    "\n",
    "for i in range(1, num_of_stds+1):\n",
    "    name=input(\"Enter the name of the student\")\n",
    "    marks=int(input(\"Enter the marks of student\"))\n",
    "    \n",
    "    print(name,marks)\n",
    "    \n",
    "    if marks>=90:\n",
    "        grade='A+'\n",
    "    elif marks>=80:\n",
    "        grade='A'\n",
    "    elif marks>=70:\n",
    "        grade='B'\n",
    "    elif marks>=60:\n",
    "        grade='C'\n",
    "    elif marks>=50:\n",
    "        grade='D'\n",
    "    else:\n",
    "        grade='E'\n",
    "    \n",
    "    print(\"Marks scored and grade received:\",marks,grade)"
   ]
  },
  {
   "cell_type": "code",
   "execution_count": 7,
   "id": "e8f31aec",
   "metadata": {},
   "outputs": [],
   "source": [
    "#practicing loops on a list of dictionaries\n",
    "students = [\n",
    "    {\"name\": \"Alice\", \"age\": 20, \"major\": \"Computer Science\"},\n",
    "    {\"name\": \"Bob\", \"age\": 22, \"major\": \"Mechanical Engineering\"},\n",
    "    {\"name\": \"Charlie\", \"age\": 19, \"major\": \"Mathematics\"},\n",
    "    {\"name\": \"Diana\", \"age\": 21, \"major\": \"AI & Machine Learning\"}\n",
    "]\n"
   ]
  },
  {
   "cell_type": "code",
   "execution_count": 10,
   "id": "efc0b3cf",
   "metadata": {},
   "outputs": [
    {
     "name": "stdout",
     "output_type": "stream",
     "text": [
      "0 {'name': 'Alice', 'age': 20, 'major': 'Computer Science'}\n",
      "1 {'name': 'Bob', 'age': 22, 'major': 'Mechanical Engineering'}\n",
      "2 {'name': 'Charlie', 'age': 19, 'major': 'Mathematics'}\n",
      "3 {'name': 'Diana', 'age': 21, 'major': 'AI & Machine Learning'}\n"
     ]
    }
   ],
   "source": [
    "for i in range(0,len(students)):\n",
    "    print(i,students[i])"
   ]
  },
  {
   "cell_type": "code",
   "execution_count": 13,
   "id": "28f33f9e",
   "metadata": {},
   "outputs": [
    {
     "name": "stdout",
     "output_type": "stream",
     "text": [
      "{'name': 'Alice', 'age': 20, 'major': 'Computer Science'}\n",
      "{'name': 'Bob', 'age': 22, 'major': 'Mechanical Engineering'}\n",
      "{'name': 'Charlie', 'age': 19, 'major': 'Mathematics'}\n",
      "{'name': 'Diana', 'age': 21, 'major': 'AI & Machine Learning'}\n"
     ]
    }
   ],
   "source": [
    "#another way\n",
    "for i in students:\n",
    "    print(i)"
   ]
  },
  {
   "cell_type": "code",
   "execution_count": 21,
   "id": "ae24aa49",
   "metadata": {},
   "outputs": [
    {
     "name": "stdout",
     "output_type": "stream",
     "text": [
      "Name: Alice\n",
      "Age: 20\n",
      "Major: Computer Science\n",
      "-----------------\n",
      "Name: Bob\n",
      "Age: 22\n",
      "Major: Mechanical Engineering\n",
      "-----------------\n",
      "Name: Charlie\n",
      "Age: 19\n",
      "Major: Mathematics\n",
      "-----------------\n",
      "Name: Diana\n",
      "Age: 21\n",
      "Major: AI & Machine Learning\n",
      "-----------------\n"
     ]
    }
   ],
   "source": [
    "#another way\n",
    "for i in students:\n",
    "    print(\"Name:\",i['name'])\n",
    "    print(\"Age:\",i['age'])\n",
    "    print(\"Major:\",i['major'])\n",
    "    print(\"-----------------\")"
   ]
  },
  {
   "cell_type": "code",
   "execution_count": 25,
   "id": "7825bd43",
   "metadata": {},
   "outputs": [
    {
     "name": "stdout",
     "output_type": "stream",
     "text": [
      "Iteration: 0\n",
      "Iteration: 1\n",
      "Iteration: 2\n",
      "Iteration: 3\n",
      "Iteration: 4\n"
     ]
    }
   ],
   "source": [
    "#while loop\n",
    "count=0\n",
    "while count<5:\n",
    "    print('Iteration:',count)\n",
    "    count+=1"
   ]
  },
  {
   "cell_type": "code",
   "execution_count": 26,
   "id": "338ba2b5",
   "metadata": {},
   "outputs": [
    {
     "name": "stdout",
     "output_type": "stream",
     "text": [
      "Enter the pin852\n",
      "Incorrect pin!Try again\n",
      "Enter the pin7852\n",
      "Incorrect pin!Try again\n",
      "Enter the pin2004\n",
      "Pin is correct\n"
     ]
    }
   ],
   "source": [
    "#used when the no.of iterations are unknown\n",
    "#prompts 'n' no.of times\n",
    "correct_pin='2004'\n",
    "entered_pin=''\n",
    "\n",
    "entered_pin=input('Enter the pin')\n",
    "while(entered_pin!=correct_pin):\n",
    "    print(\"Incorrect pin!Try again\")\n",
    "    \n",
    "    entered_pin=input('Enter the pin')\n",
    "\n",
    "print(\"Pin is correct\")"
   ]
  },
  {
   "cell_type": "code",
   "execution_count": 27,
   "id": "91855478",
   "metadata": {},
   "outputs": [],
   "source": [
    "#for the above example if we use if-else it excutes only once\n",
    "#by using the while loop we can enter the pin 'n' no.of time\n",
    "#until the pin entered is correct"
   ]
  },
  {
   "cell_type": "code",
   "execution_count": null,
   "id": "5719f3ea",
   "metadata": {},
   "outputs": [],
   "source": []
  }
 ],
 "metadata": {
  "kernelspec": {
   "display_name": "Python 3 (ipykernel)",
   "language": "python",
   "name": "python3"
  },
  "language_info": {
   "codemirror_mode": {
    "name": "ipython",
    "version": 3
   },
   "file_extension": ".py",
   "mimetype": "text/x-python",
   "name": "python",
   "nbconvert_exporter": "python",
   "pygments_lexer": "ipython3",
   "version": "3.11.5"
  }
 },
 "nbformat": 4,
 "nbformat_minor": 5
}
