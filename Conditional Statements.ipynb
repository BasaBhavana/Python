{
 "cells": [
  {
   "cell_type": "markdown",
   "id": "4efe1a9a",
   "metadata": {},
   "source": [
    "# if:Executes the statement if the condition is TRUE"
   ]
  },
  {
   "cell_type": "code",
   "execution_count": 1,
   "id": "103e6add",
   "metadata": {},
   "outputs": [
    {
     "name": "stdout",
     "output_type": "stream",
     "text": [
      "a is even\n"
     ]
    }
   ],
   "source": [
    "a=10\n",
    "if(a%2==0):\n",
    "    print(\"a is even\")\n",
    "if(a%2!=0):\n",
    "    print(\"a is odd\")"
   ]
  },
  {
   "cell_type": "markdown",
   "id": "c19eff41",
   "metadata": {},
   "source": [
    "# if else:Executes block of code based on one condition"
   ]
  },
  {
   "cell_type": "code",
   "execution_count": 4,
   "id": "1f3cae6a",
   "metadata": {},
   "outputs": [
    {
     "name": "stdout",
     "output_type": "stream",
     "text": [
      "MAX= 10\n"
     ]
    }
   ],
   "source": [
    "a,b=10,5\n",
    "if a>b:\n",
    "    max=a\n",
    "else:\n",
    "    max=b\n",
    "print(\"MAX=\",max)"
   ]
  },
  {
   "cell_type": "markdown",
   "id": "d8dbdcba",
   "metadata": {},
   "source": [
    "# Nested-if:if statement placed inside another if or else block. It allows you to evaluate multiple conditions in a structured way, where one condition depends on the result of another."
   ]
  },
  {
   "cell_type": "code",
   "execution_count": 5,
   "id": "35738b24",
   "metadata": {},
   "outputs": [
    {
     "name": "stdout",
     "output_type": "stream",
     "text": [
      "You are an adult.\n",
      "You cannot legally drink alcohol yet.\n"
     ]
    }
   ],
   "source": [
    "age = 20\n",
    "if age > 18:\n",
    "    print(\"You are an adult.\")\n",
    "    if age >= 21:\n",
    "        print(\"You can legally drink alcohol\")\n",
    "    else:\n",
    "        print(\"You cannot legally drink alcohol yet.\")\n",
    "else:\n",
    "    print(\"You are a minor.\")"
   ]
  },
  {
   "cell_type": "markdown",
   "id": "d1a8ec6c",
   "metadata": {},
   "source": [
    "# elif ladder:Chooses one condition over multiple conditions"
   ]
  },
  {
   "cell_type": "code",
   "execution_count": 6,
   "id": "b7f35714",
   "metadata": {},
   "outputs": [
    {
     "name": "stdout",
     "output_type": "stream",
     "text": [
      "Grade: A\n"
     ]
    }
   ],
   "source": [
    "marks = 85\n",
    "\n",
    "if marks >= 90:\n",
    "    print(\"Grade: A+\")\n",
    "elif marks >= 80:\n",
    "    print(\"Grade: A\")\n",
    "elif marks >= 70:\n",
    "    print(\"Grade: B\")\n",
    "elif marks >= 60:\n",
    "    print(\"Grade: C\")\n",
    "else:\n",
    "    print(\"Grade: F\")\n"
   ]
  },
  {
   "cell_type": "code",
   "execution_count": null,
   "id": "3afb70d1",
   "metadata": {},
   "outputs": [],
   "source": []
  }
 ],
 "metadata": {
  "kernelspec": {
   "display_name": "Python 3 (ipykernel)",
   "language": "python",
   "name": "python3"
  },
  "language_info": {
   "codemirror_mode": {
    "name": "ipython",
    "version": 3
   },
   "file_extension": ".py",
   "mimetype": "text/x-python",
   "name": "python",
   "nbconvert_exporter": "python",
   "pygments_lexer": "ipython3",
   "version": "3.11.5"
  }
 },
 "nbformat": 4,
 "nbformat_minor": 5
}
