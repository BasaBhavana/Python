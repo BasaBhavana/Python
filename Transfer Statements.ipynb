{
 "cells": [
  {
   "cell_type": "markdown",
   "id": "191af78e",
   "metadata": {},
   "source": [
    "# Break:terminates loop based on some conditions"
   ]
  },
  {
   "cell_type": "code",
   "execution_count": 2,
   "id": "881fe7a1",
   "metadata": {},
   "outputs": [
    {
     "name": "stdout",
     "output_type": "stream",
     "text": [
      "123456"
     ]
    }
   ],
   "source": [
    "for i in range(1,21):\n",
    "    if i==7:\n",
    "        break\n",
    "    print(i,end=\"\")"
   ]
  },
  {
   "cell_type": "markdown",
   "id": "89c17e51",
   "metadata": {},
   "source": [
    "# Skip:Used to skip a particular iteration"
   ]
  },
  {
   "cell_type": "code",
   "execution_count": 3,
   "id": "2c0296fe",
   "metadata": {},
   "outputs": [
    {
     "name": "stdout",
     "output_type": "stream",
     "text": [
      "1\n",
      "3\n",
      "5\n"
     ]
    }
   ],
   "source": [
    "for num in range(1, 6):\n",
    "    if num % 2 == 0: \n",
    "        continue\n",
    "    print(num)\n"
   ]
  },
  {
   "cell_type": "code",
   "execution_count": null,
   "id": "ed5c73d0",
   "metadata": {},
   "outputs": [],
   "source": []
  }
 ],
 "metadata": {
  "kernelspec": {
   "display_name": "Python 3 (ipykernel)",
   "language": "python",
   "name": "python3"
  },
  "language_info": {
   "codemirror_mode": {
    "name": "ipython",
    "version": 3
   },
   "file_extension": ".py",
   "mimetype": "text/x-python",
   "name": "python",
   "nbconvert_exporter": "python",
   "pygments_lexer": "ipython3",
   "version": "3.11.5"
  }
 },
 "nbformat": 4,
 "nbformat_minor": 5
}
