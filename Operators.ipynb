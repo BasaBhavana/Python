{
 "cells": [
  {
   "cell_type": "markdown",
   "id": "83246092",
   "metadata": {},
   "source": [
    "# Airthmatic Operators:Performs airthmatic operations like +,-,*,/\n"
   ]
  },
  {
   "cell_type": "code",
   "execution_count": 1,
   "id": "5c2b2352",
   "metadata": {},
   "outputs": [
    {
     "name": "stdout",
     "output_type": "stream",
     "text": [
      "a+b= 9\n",
      "a-b= 1\n",
      "a*b= 20\n",
      "a/b= 1.25\n",
      "a%b= 1\n",
      "a**b= 625\n",
      "a//b= 1\n"
     ]
    }
   ],
   "source": [
    "a,b=5,4\n",
    "print(\"a+b=\",a+b)\n",
    "print(\"a-b=\",a-b)\n",
    "print(\"a*b=\",a*b)\n",
    "print(\"a/b=\",a/b)\n",
    "print(\"a%b=\",a%b)\n",
    "print(\"a**b=\",a**b)#exponential\n",
    "print(\"a//b=\",a//b)#floor\n"
   ]
  },
  {
   "cell_type": "markdown",
   "id": "cc188309",
   "metadata": {},
   "source": [
    "# Relational Operators:Comapares two values like ==,!=,<,>"
   ]
  },
  {
   "cell_type": "code",
   "execution_count": 3,
   "id": "e3a93f4e",
   "metadata": {},
   "outputs": [
    {
     "name": "stdout",
     "output_type": "stream",
     "text": [
      "a<b False\n",
      "a>b True\n",
      "a==b False\n",
      "a<=b False\n",
      "a>=b True\n",
      "a!=b True\n"
     ]
    }
   ],
   "source": [
    "a,b=5,4\n",
    "print(\"a<b\",a<b)\n",
    "print(\"a>b\",a>b)\n",
    "print(\"a==b\",a==b)\n",
    "print(\"a<=b\",a<=b)\n",
    "print(\"a>=b\",a>=b)\n",
    "print(\"a!=b\",a!=b)"
   ]
  },
  {
   "cell_type": "markdown",
   "id": "e9ceeddd",
   "metadata": {},
   "source": [
    "# Logical Operators:Comapres more than one condition at a time like AND,OR,NOT"
   ]
  },
  {
   "cell_type": "code",
   "execution_count": 4,
   "id": "15b2452e",
   "metadata": {},
   "outputs": [
    {
     "name": "stdout",
     "output_type": "stream",
     "text": [
      "False\n",
      "False\n",
      "False\n",
      "True\n"
     ]
    }
   ],
   "source": [
    "a,b,c=5,6,7\n",
    "print(a>b and b>c)\n",
    "print(a>b or b>c)\n",
    "print(a>b)\n",
    "print(not a>b)"
   ]
  },
  {
   "cell_type": "markdown",
   "id": "c4b7be43",
   "metadata": {},
   "source": [
    "# Assignement Operators:Assigns value to operand like +=,-=,*=,/="
   ]
  },
  {
   "cell_type": "code",
   "execution_count": 6,
   "id": "4679a886",
   "metadata": {},
   "outputs": [
    {
     "name": "stdout",
     "output_type": "stream",
     "text": [
      "15\n"
     ]
    }
   ],
   "source": [
    "a,b=5,10\n",
    "a+=b #a=a+b\n",
    "print(a)"
   ]
  },
  {
   "cell_type": "code",
   "execution_count": 7,
   "id": "b1516d53",
   "metadata": {},
   "outputs": [
    {
     "name": "stdout",
     "output_type": "stream",
     "text": [
      "5\n"
     ]
    }
   ],
   "source": [
    "a-=b\n",
    "print(a)"
   ]
  },
  {
   "cell_type": "code",
   "execution_count": 8,
   "id": "b68022d8",
   "metadata": {},
   "outputs": [
    {
     "name": "stdout",
     "output_type": "stream",
     "text": [
      "50\n"
     ]
    }
   ],
   "source": [
    "a*=b\n",
    "print(a)"
   ]
  },
  {
   "cell_type": "code",
   "execution_count": 9,
   "id": "350fdc74",
   "metadata": {},
   "outputs": [
    {
     "name": "stdout",
     "output_type": "stream",
     "text": [
      "5.0\n"
     ]
    }
   ],
   "source": [
    "a/=b\n",
    "print(a)"
   ]
  },
  {
   "cell_type": "code",
   "execution_count": 10,
   "id": "5a28fa2f",
   "metadata": {},
   "outputs": [
    {
     "name": "stdout",
     "output_type": "stream",
     "text": [
      "5.0\n"
     ]
    }
   ],
   "source": [
    "a%=b\n",
    "print(a)"
   ]
  },
  {
   "cell_type": "markdown",
   "id": "c33213c4",
   "metadata": {},
   "source": [
    "# Bitwise Operators:Performs bit-wise calculations on the integers"
   ]
  },
  {
   "cell_type": "code",
   "execution_count": 13,
   "id": "6ce7a39f",
   "metadata": {},
   "outputs": [
    {
     "name": "stdout",
     "output_type": "stream",
     "text": [
      "a&b= 0\n",
      "a|b= 30\n",
      "a^b= 30\n",
      "a<<1= 20\n",
      "a>>1= 5\n"
     ]
    }
   ],
   "source": [
    "a,b=10,20\n",
    "print('a&b=',a&b)\n",
    "print('a|b=',a|b)\n",
    "print('a^b=',a^b)\n",
    "print('a<<1=',a<<1)\n",
    "print('a>>1=',a>>1)"
   ]
  },
  {
   "cell_type": "code",
   "execution_count": null,
   "id": "05b9acab",
   "metadata": {},
   "outputs": [],
   "source": []
  }
 ],
 "metadata": {
  "kernelspec": {
   "display_name": "Python 3 (ipykernel)",
   "language": "python",
   "name": "python3"
  },
  "language_info": {
   "codemirror_mode": {
    "name": "ipython",
    "version": 3
   },
   "file_extension": ".py",
   "mimetype": "text/x-python",
   "name": "python",
   "nbconvert_exporter": "python",
   "pygments_lexer": "ipython3",
   "version": "3.11.5"
  }
 },
 "nbformat": 4,
 "nbformat_minor": 5
}
