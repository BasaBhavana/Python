{
 "cells": [
  {
   "cell_type": "markdown",
   "id": "b493054f",
   "metadata": {},
   "source": [
    "# Pre-defined Modules"
   ]
  },
  {
   "cell_type": "code",
   "execution_count": 1,
   "id": "cee32f76",
   "metadata": {},
   "outputs": [],
   "source": [
    "#datetime date & time related functions"
   ]
  },
  {
   "cell_type": "code",
   "execution_count": 2,
   "id": "f52ab14c",
   "metadata": {},
   "outputs": [],
   "source": [
    "import datetime"
   ]
  },
  {
   "cell_type": "code",
   "execution_count": 5,
   "id": "92f5cba7",
   "metadata": {},
   "outputs": [
    {
     "name": "stdout",
     "output_type": "stream",
     "text": [
      "2025-09-06 12:34:36.972336\n"
     ]
    }
   ],
   "source": [
    "now=datetime.datetime.now()\n",
    "print(now)"
   ]
  },
  {
   "cell_type": "code",
   "execution_count": 6,
   "id": "b797b5bc",
   "metadata": {},
   "outputs": [
    {
     "name": "stdout",
     "output_type": "stream",
     "text": [
      "2025\n"
     ]
    }
   ],
   "source": [
    "#strftime string format time\n",
    "#prints data in our required format\n",
    "print(now.strftime(\"%Y\"))"
   ]
  },
  {
   "cell_type": "code",
   "execution_count": 8,
   "id": "fe95be69",
   "metadata": {},
   "outputs": [
    {
     "name": "stdout",
     "output_type": "stream",
     "text": [
      "09\n"
     ]
    }
   ],
   "source": [
    "print(now.strftime(\"%m\"))"
   ]
  },
  {
   "cell_type": "code",
   "execution_count": 9,
   "id": "c67de476",
   "metadata": {},
   "outputs": [
    {
     "name": "stdout",
     "output_type": "stream",
     "text": [
      "06\n"
     ]
    }
   ],
   "source": [
    "print(now.strftime(\"%d\"))"
   ]
  },
  {
   "cell_type": "code",
   "execution_count": 10,
   "id": "ed3026e5",
   "metadata": {},
   "outputs": [
    {
     "name": "stdout",
     "output_type": "stream",
     "text": [
      "Sep\n"
     ]
    }
   ],
   "source": [
    "print(now.strftime(\"%h\"))"
   ]
  },
  {
   "cell_type": "code",
   "execution_count": 11,
   "id": "6d745502",
   "metadata": {},
   "outputs": [
    {
     "name": "stdout",
     "output_type": "stream",
     "text": [
      "06/09/2025 12:34:36\n"
     ]
    }
   ],
   "source": [
    "print(now.strftime(\"%d/%m/%Y %H:%M:%S\"))"
   ]
  },
  {
   "cell_type": "code",
   "execution_count": 12,
   "id": "02231357",
   "metadata": {},
   "outputs": [
    {
     "name": "stdout",
     "output_type": "stream",
     "text": [
      "Saturday,September 06,2025\n"
     ]
    }
   ],
   "source": [
    "print(now.strftime(\"%A,%B %d,%Y\"))"
   ]
  },
  {
   "cell_type": "code",
   "execution_count": 14,
   "id": "698e0625",
   "metadata": {},
   "outputs": [
    {
     "name": "stdout",
     "output_type": "stream",
     "text": [
      "12:34 :PM\n"
     ]
    }
   ],
   "source": [
    "print(now.strftime(\"%I:%M :%p\"))\n",
    "#I 12hours format\n",
    "#p AM/PM\n",
    "#M minutes"
   ]
  },
  {
   "cell_type": "code",
   "execution_count": null,
   "id": "f2428cdb",
   "metadata": {},
   "outputs": [],
   "source": []
  }
 ],
 "metadata": {
  "kernelspec": {
   "display_name": "Python 3 (ipykernel)",
   "language": "python",
   "name": "python3"
  },
  "language_info": {
   "codemirror_mode": {
    "name": "ipython",
    "version": 3
   },
   "file_extension": ".py",
   "mimetype": "text/x-python",
   "name": "python",
   "nbconvert_exporter": "python",
   "pygments_lexer": "ipython3",
   "version": "3.11.5"
  }
 },
 "nbformat": 4,
 "nbformat_minor": 5
}
