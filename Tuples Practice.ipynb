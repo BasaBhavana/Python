{
 "cells": [
  {
   "cell_type": "code",
   "execution_count": 6,
   "id": "9effe715",
   "metadata": {},
   "outputs": [],
   "source": [
    "days=('Monday','Tuesday','Wednesday','Thursday','Friday','Saturday','Sunday')\n",
    "\n",
    "office_location=(1234.5678,9876.54321)\n",
    "\n"
   ]
  },
  {
   "cell_type": "code",
   "execution_count": 7,
   "id": "6bd1fca5",
   "metadata": {},
   "outputs": [
    {
     "name": "stdout",
     "output_type": "stream",
     "text": [
      "('Monday', 'Tuesday', 'Wednesday', 'Thursday', 'Friday', 'Saturday', 'Sunday')\n"
     ]
    }
   ],
   "source": [
    "print(days)"
   ]
  },
  {
   "cell_type": "code",
   "execution_count": 8,
   "id": "e2b1072d",
   "metadata": {},
   "outputs": [
    {
     "name": "stdout",
     "output_type": "stream",
     "text": [
      "Monday\n"
     ]
    }
   ],
   "source": [
    "print(days[0])\n",
    "#values stored as indexes"
   ]
  },
  {
   "cell_type": "code",
   "execution_count": 9,
   "id": "70779b55",
   "metadata": {},
   "outputs": [
    {
     "ename": "TypeError",
     "evalue": "'tuple' object does not support item assignment",
     "output_type": "error",
     "traceback": [
      "\u001b[1;31m---------------------------------------------------------------------------\u001b[0m",
      "\u001b[1;31mTypeError\u001b[0m                                 Traceback (most recent call last)",
      "Cell \u001b[1;32mIn[9], line 1\u001b[0m\n\u001b[1;32m----> 1\u001b[0m days[\u001b[38;5;241m0\u001b[39m]\u001b[38;5;241m=\u001b[39m\u001b[38;5;124m'\u001b[39m\u001b[38;5;124mmonday\u001b[39m\u001b[38;5;124m'\u001b[39m\n",
      "\u001b[1;31mTypeError\u001b[0m: 'tuple' object does not support item assignment"
     ]
    }
   ],
   "source": [
    "days[0]='monday'\n",
    "#tuples dont support modifications"
   ]
  },
  {
   "cell_type": "code",
   "execution_count": null,
   "id": "e6fa1372",
   "metadata": {},
   "outputs": [],
   "source": [
    "days"
   ]
  },
  {
   "cell_type": "code",
   "execution_count": 10,
   "id": "7b9c5396",
   "metadata": {},
   "outputs": [
    {
     "ename": "AttributeError",
     "evalue": "'tuple' object has no attribute 'append'",
     "output_type": "error",
     "traceback": [
      "\u001b[1;31m---------------------------------------------------------------------------\u001b[0m",
      "\u001b[1;31mAttributeError\u001b[0m                            Traceback (most recent call last)",
      "Cell \u001b[1;32mIn[10], line 1\u001b[0m\n\u001b[1;32m----> 1\u001b[0m days\u001b[38;5;241m.\u001b[39mappend(\u001b[38;5;124m'\u001b[39m\u001b[38;5;124mmonday\u001b[39m\u001b[38;5;124m'\u001b[39m)\n",
      "\u001b[1;31mAttributeError\u001b[0m: 'tuple' object has no attribute 'append'"
     ]
    }
   ],
   "source": [
    "days.append('monday')"
   ]
  },
  {
   "cell_type": "code",
   "execution_count": 13,
   "id": "149f5f91",
   "metadata": {},
   "outputs": [
    {
     "name": "stdout",
     "output_type": "stream",
     "text": [
      "Tuesday\n"
     ]
    }
   ],
   "source": [
    "print(days[1])"
   ]
  },
  {
   "cell_type": "code",
   "execution_count": 15,
   "id": "1a2c6ef5",
   "metadata": {},
   "outputs": [
    {
     "name": "stdout",
     "output_type": "stream",
     "text": [
      "Monday\n"
     ]
    }
   ],
   "source": [
    "print(days[0])\n",
    "#printing values with the help of index\n",
    "#index values starts from 0 to n-1"
   ]
  },
  {
   "cell_type": "code",
   "execution_count": 16,
   "id": "60de8cf7",
   "metadata": {},
   "outputs": [
    {
     "name": "stdout",
     "output_type": "stream",
     "text": [
      "7\n"
     ]
    }
   ],
   "source": [
    "print(len(days))\n",
    "#to find the length"
   ]
  },
  {
   "cell_type": "code",
   "execution_count": 17,
   "id": "0654e1e2",
   "metadata": {},
   "outputs": [],
   "source": [
    "#Based on the ( ) system understands it as the tuple\n",
    "#And does mot allow it to allow to update/modify"
   ]
  },
  {
   "cell_type": "code",
   "execution_count": null,
   "id": "839a847e",
   "metadata": {},
   "outputs": [],
   "source": [
    "#Tuples are not much suitable for dissimilar type of data"
   ]
  }
 ],
 "metadata": {
  "kernelspec": {
   "display_name": "Python 3 (ipykernel)",
   "language": "python",
   "name": "python3"
  },
  "language_info": {
   "codemirror_mode": {
    "name": "ipython",
    "version": 3
   },
   "file_extension": ".py",
   "mimetype": "text/x-python",
   "name": "python",
   "nbconvert_exporter": "python",
   "pygments_lexer": "ipython3",
   "version": "3.11.5"
  }
 },
 "nbformat": 4,
 "nbformat_minor": 5
}
