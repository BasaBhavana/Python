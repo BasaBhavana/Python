{
 "cells": [
  {
   "cell_type": "code",
   "execution_count": 10,
   "id": "8d495145",
   "metadata": {},
   "outputs": [
    {
     "data": {
      "text/plain": [
       "1180.0"
      ]
     },
     "execution_count": 10,
     "metadata": {},
     "output_type": "execute_result"
    }
   ],
   "source": [
    "#syntax: lambda arguments:expression\n",
    "\n",
    "#applying GST of 18% on a product\n",
    "apply_gst=lambda price: price+(price*18/100)\n",
    "apply_gst(1000)"
   ]
  },
  {
   "cell_type": "code",
   "execution_count": 3,
   "id": "841d4fbf",
   "metadata": {},
   "outputs": [
    {
     "data": {
      "text/plain": [
       "117998.82"
      ]
     },
     "execution_count": 3,
     "metadata": {},
     "output_type": "execute_result"
    }
   ],
   "source": [
    "final_price=apply_gst(99999)\n",
    "final_price"
   ]
  },
  {
   "cell_type": "code",
   "execution_count": 4,
   "id": "a0cc1597",
   "metadata": {},
   "outputs": [],
   "source": [
    "#map() used to manipulate the data\n",
    "#Manipulating is done along with the evaluation\n"
   ]
  },
  {
   "cell_type": "code",
   "execution_count": 9,
   "id": "f074c757",
   "metadata": {},
   "outputs": [
    {
     "data": {
      "text/plain": [
       "[{'id': 1, 'name': 'Laptop', 'price': 1200.99, 'in_stock': 'Available'},\n",
       " {'id': 2, 'name': 'Smartphone', 'price': 699.49, 'in_stock': 'Available'},\n",
       " {'id': 3, 'name': 'Headphones', 'price': 199.99, 'in_stock': 'Available'},\n",
       " {'id': 4, 'name': 'Monitor', 'price': 299.99, 'in_stock': 'Available'},\n",
       " {'id': 5, 'name': 'Desk Chair', 'price': 149.99, 'in_stock': 'Not Available'}]"
      ]
     },
     "execution_count": 9,
     "metadata": {},
     "output_type": "execute_result"
    }
   ],
   "source": [
    "products = [\n",
    "    (\"Laptop\", 1200.99, 15),\n",
    "    (\"Smartphone\", 699.49, 30),\n",
    "    (\"Headphones\", 199.99, 50),\n",
    "    (\"Monitor\", 299.99, 20),\n",
    "    (\"Desk Chair\", 149.99, 0)\n",
    "]\n",
    "\n",
    "discounted_products = list(map(lambda product: (product[0], product[1], product[2], product[1] - product[1] * product[2] / 100), products))\n",
    "\n",
    "discounted_products\n",
    "\n",
    "products = [\n",
    "    {\n",
    "        \"id\": 1,\n",
    "        \"name\": \"Laptop\",\n",
    "        \"category\": \"Electronics\",\n",
    "        \"price\": 1200.99,\n",
    "        \"stock\": 15,\n",
    "        \"in_stock\": True,\n",
    "        \"rating\": 4.5\n",
    "    },\n",
    "    {\n",
    "        \"id\": 2,\n",
    "        \"name\": \"Smartphone\",\n",
    "        \"category\": \"Electronics\",\n",
    "        \"price\": 699.49,\n",
    "        \"stock\": 30,\n",
    "        \"in_stock\": True,\n",
    "        \"rating\": 4.7\n",
    "    },\n",
    "    {\n",
    "        \"id\": 3,\n",
    "        \"name\": \"Headphones\",\n",
    "        \"category\": \"Audio\",\n",
    "        \"price\": 199.99,\n",
    "        \"stock\": 50,\n",
    "        \"in_stock\": True,\n",
    "        \"rating\": 4.3\n",
    "    },\n",
    "    {\n",
    "        \"id\": 4,\n",
    "        \"name\": \"Monitor\",\n",
    "        \"category\": \"Electronics\",\n",
    "        \"price\": 299.99,\n",
    "        \"stock\": 20,\n",
    "        \"in_stock\": True,\n",
    "        \"rating\": 4.4\n",
    "    },\n",
    "    {\n",
    "        \"id\": 5,\n",
    "        \"name\": \"Desk Chair\",\n",
    "        \"category\": \"Furniture\",\n",
    "        \"price\": 149.99,\n",
    "        \"stock\": 0,\n",
    "        \"in_stock\": False,\n",
    "        \"rating\": 4.0\n",
    "    },\n",
    "]\n",
    "\n",
    "modified_products = list(map(lambda product: { 'id': product['id'], 'name': product['name'], 'price': product['price'], 'in_stock': 'Available' if product['in_stock'] else 'Not Available' }, products))\n",
    "\n",
    "modified_products\n"
   ]
  },
  {
   "cell_type": "code",
   "execution_count": null,
   "id": "6e550b99",
   "metadata": {},
   "outputs": [],
   "source": [
    "#filter() filters each records based on some condition"
   ]
  },
  {
   "cell_type": "code",
   "execution_count": 12,
   "id": "62f53662",
   "metadata": {},
   "outputs": [
    {
     "data": {
      "text/plain": [
       "[{'id': 3,\n",
       "  'name': 'Catherine Lee',\n",
       "  'age': 13,\n",
       "  'gender': 'Female',\n",
       "  'city': 'Los Angeles'},\n",
       " {'id': 6,\n",
       "  'name': 'Frank Zhang',\n",
       "  'age': 14,\n",
       "  'gender': 'Male',\n",
       "  'city': 'Philadelphia'},\n",
       " {'id': 8,\n",
       "  'name': 'Hassan Ali',\n",
       "  'age': 16,\n",
       "  'gender': 'Male',\n",
       "  'city': 'Dallas'}]"
      ]
     },
     "execution_count": 12,
     "metadata": {},
     "output_type": "execute_result"
    }
   ],
   "source": [
    "\n",
    "\n",
    "citizens = [\n",
    "    {\"id\": 1, \"name\": \"Alice Johnson\", \"age\": 34, \"gender\": \"Female\", \"city\": \"New York\"},\n",
    "    {\"id\": 2, \"name\": \"Bob Smith\", \"age\": 28, \"gender\": \"Male\", \"city\": \"Chicago\"},\n",
    "    {\"id\": 3, \"name\": \"Catherine Lee\", \"age\": 13, \"gender\": \"Female\", \"city\": \"Los Angeles\"},\n",
    "    {\"id\": 4, \"name\": \"David Kumar\", \"age\": 22, \"gender\": \"Male\", \"city\": \"Houston\"},\n",
    "    {\"id\": 5, \"name\": \"Elena Garcia\", \"age\": 31, \"gender\": \"Female\", \"city\": \"Phoenix\"},\n",
    "    {\"id\": 6, \"name\": \"Frank Zhang\", \"age\": 14, \"gender\": \"Male\", \"city\": \"Philadelphia\"},\n",
    "    {\"id\": 7, \"name\": \"Grace Kim\", \"age\": 27, \"gender\": \"Female\", \"city\": \"San Diego\"},\n",
    "    {\"id\": 8, \"name\": \"Hassan Ali\", \"age\": 16, \"gender\": \"Male\", \"city\": \"Dallas\"},\n",
    "    {\"id\": 9, \"name\": \"Ivy Patel\", \"age\": 24, \"gender\": \"Female\", \"city\": \"San Jose\"},\n",
    "    {\"id\": 10, \"name\": \"Jack Thompson\", \"age\": 19, \"gender\": \"Male\", \"city\": \"Austin\"},\n",
    "]\n",
    "\n",
    "filtered_citizens = list(filter(lambda citizen: citizen['age'] < 18, citizens))\n",
    "\n",
    "filtered_citizens\n",
    "\n"
   ]
  },
  {
   "cell_type": "code",
   "execution_count": 14,
   "id": "93f3bbe0",
   "metadata": {},
   "outputs": [],
   "source": [
    "#reduce() to reduce whole collection of values into a sinlge value"
   ]
  },
  {
   "cell_type": "code",
   "execution_count": 19,
   "id": "ab6a8157",
   "metadata": {},
   "outputs": [
    {
     "data": {
      "text/plain": [
       "16000"
      ]
     },
     "execution_count": 19,
     "metadata": {},
     "output_type": "execute_result"
    }
   ],
   "source": [
    "from functools import reduce\n",
    "\n",
    "transactions = [4000, 5000, 6000, 1000]\n",
    "\n",
    "total_bill = reduce(lambda x, y: x + y, transactions)\n",
    "\n",
    "total_bill"
   ]
  },
  {
   "cell_type": "code",
   "execution_count": null,
   "id": "c347e7f6",
   "metadata": {},
   "outputs": [],
   "source": []
  }
 ],
 "metadata": {
  "kernelspec": {
   "display_name": "Python 3 (ipykernel)",
   "language": "python",
   "name": "python3"
  },
  "language_info": {
   "codemirror_mode": {
    "name": "ipython",
    "version": 3
   },
   "file_extension": ".py",
   "mimetype": "text/x-python",
   "name": "python",
   "nbconvert_exporter": "python",
   "pygments_lexer": "ipython3",
   "version": "3.11.5"
  }
 },
 "nbformat": 4,
 "nbformat_minor": 5
}
