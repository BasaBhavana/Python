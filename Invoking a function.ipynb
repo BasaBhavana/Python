{
 "cells": [
  {
   "cell_type": "markdown",
   "id": "38a1df9c",
   "metadata": {},
   "source": [
    "# Syntax: module.function(args)"
   ]
  },
  {
   "cell_type": "code",
   "execution_count": 1,
   "id": "3cfcb50b",
   "metadata": {},
   "outputs": [
    {
     "name": "stdout",
     "output_type": "stream",
     "text": [
      "Pi= 3.141592653589793\n"
     ]
    }
   ],
   "source": [
    "import math\n",
    "print(\"Pi=\",math.pi)"
   ]
  },
  {
   "cell_type": "code",
   "execution_count": 2,
   "id": "4dc39fa2",
   "metadata": {},
   "outputs": [
    {
     "name": "stdout",
     "output_type": "stream",
     "text": [
      "E= 2.718281828459045\n"
     ]
    }
   ],
   "source": [
    "print(\"E=\",math.e)"
   ]
  },
  {
   "cell_type": "code",
   "execution_count": 4,
   "id": "4d1d940a",
   "metadata": {},
   "outputs": [
    {
     "name": "stdout",
     "output_type": "stream",
     "text": [
      "Sqrt of 25= 5.0\n"
     ]
    }
   ],
   "source": [
    "print(\"Sqrt of 25=\",math.sqrt(25))"
   ]
  },
  {
   "cell_type": "code",
   "execution_count": 5,
   "id": "d6925797",
   "metadata": {},
   "outputs": [
    {
     "name": "stdout",
     "output_type": "stream",
     "text": [
      "Power(3,5)= 243.0\n"
     ]
    }
   ],
   "source": [
    "print(\"Power(3,5)=\",math.pow(3,5))"
   ]
  },
  {
   "cell_type": "code",
   "execution_count": 12,
   "id": "cf9fa771",
   "metadata": {},
   "outputs": [
    {
     "name": "stdout",
     "output_type": "stream",
     "text": [
      "Factorial of 5= 3.141592653589793\n"
     ]
    }
   ],
   "source": [
    "print(\"Factorial of 5=\",math.pi)"
   ]
  },
  {
   "cell_type": "code",
   "execution_count": 14,
   "id": "90c7f004",
   "metadata": {},
   "outputs": [
    {
     "name": "stdout",
     "output_type": "stream",
     "text": [
      "Trunc(155/10)= 15\n"
     ]
    }
   ],
   "source": [
    "print(\"Trunc(155/10)=\",math.trunc(155/10)) #removes fractional part of floating point number"
   ]
  },
  {
   "cell_type": "code",
   "execution_count": 16,
   "id": "9588a766",
   "metadata": {},
   "outputs": [
    {
     "name": "stdout",
     "output_type": "stream",
     "text": [
      "Floor(23.45)= 23\n"
     ]
    }
   ],
   "source": [
    "print(\"Floor(23.45)=\",math.floor(23.45)) #rounds the number to nearest integer"
   ]
  },
  {
   "cell_type": "code",
   "execution_count": 18,
   "id": "993f2a9d",
   "metadata": {},
   "outputs": [
    {
     "name": "stdout",
     "output_type": "stream",
     "text": [
      "Ceil(23.45)= 24\n"
     ]
    }
   ],
   "source": [
    "print(\"Ceil(23.45)=\",math.ceil(23.45)) #returns integer >= a number"
   ]
  },
  {
   "cell_type": "code",
   "execution_count": 19,
   "id": "841eba12",
   "metadata": {
    "scrolled": true
   },
   "outputs": [
    {
     "name": "stdout",
     "output_type": "stream",
     "text": [
      "Sin(45): 0.8509035245341184\n"
     ]
    }
   ],
   "source": [
    "print(\"Sin(45):\",math.sin(45))"
   ]
  },
  {
   "cell_type": "code",
   "execution_count": 20,
   "id": "5ce4a588",
   "metadata": {},
   "outputs": [
    {
     "name": "stdout",
     "output_type": "stream",
     "text": [
      "Cos(45): 0.5253219888177297\n"
     ]
    }
   ],
   "source": [
    "print(\"Cos(45):\",math.cos(45))"
   ]
  },
  {
   "cell_type": "code",
   "execution_count": 21,
   "id": "6db8f65e",
   "metadata": {},
   "outputs": [
    {
     "name": "stdout",
     "output_type": "stream",
     "text": [
      "Tan(45): 1.6197751905438615\n"
     ]
    }
   ],
   "source": [
    "print(\"Tan(45):\",math.tan(45))"
   ]
  },
  {
   "cell_type": "code",
   "execution_count": 24,
   "id": "2d9cb510",
   "metadata": {},
   "outputs": [
    {
     "name": "stdout",
     "output_type": "stream",
     "text": [
      "Radians(180): 3.141592653589793\n"
     ]
    }
   ],
   "source": [
    "print(\"Radians(180):\",math.radians(180)) #returns radian value of given degree"
   ]
  },
  {
   "cell_type": "code",
   "execution_count": null,
   "id": "8492cbce",
   "metadata": {},
   "outputs": [],
   "source": []
  }
 ],
 "metadata": {
  "kernelspec": {
   "display_name": "Python 3 (ipykernel)",
   "language": "python",
   "name": "python3"
  },
  "language_info": {
   "codemirror_mode": {
    "name": "ipython",
    "version": 3
   },
   "file_extension": ".py",
   "mimetype": "text/x-python",
   "name": "python",
   "nbconvert_exporter": "python",
   "pygments_lexer": "ipython3",
   "version": "3.11.5"
  }
 },
 "nbformat": 4,
 "nbformat_minor": 5
}
