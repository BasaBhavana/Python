{
 "cells": [
  {
   "cell_type": "code",
   "execution_count": 5,
   "id": "cd4243d7",
   "metadata": {},
   "outputs": [
    {
     "data": {
      "text/plain": [
       "3"
      ]
     },
     "execution_count": 5,
     "metadata": {},
     "output_type": "execute_result"
    }
   ],
   "source": [
    "#count() returns the no.of occurences of an item in the string\n",
    "roll_call=(\"LE1\",\"LE2\",\"LE3\",\"LE4\",\"LE1\",\"LE1\")\n",
    "count=roll_call.count('LE1')\n",
    "count"
   ]
  },
  {
   "cell_type": "code",
   "execution_count": 7,
   "id": "6c627f50",
   "metadata": {},
   "outputs": [
    {
     "data": {
      "text/plain": [
       "1"
      ]
     },
     "execution_count": 7,
     "metadata": {},
     "output_type": "execute_result"
    }
   ],
   "source": [
    "#index() returns the index value of an item \n",
    "index=roll_call.index('LE2')\n",
    "index"
   ]
  },
  {
   "cell_type": "code",
   "execution_count": 8,
   "id": "02b12da3",
   "metadata": {},
   "outputs": [
    {
     "data": {
      "text/plain": [
       "6"
      ]
     },
     "execution_count": 8,
     "metadata": {},
     "output_type": "execute_result"
    }
   ],
   "source": [
    "#len() returns the length of string\n",
    "length=len(roll_call)\n",
    "length"
   ]
  },
  {
   "cell_type": "code",
   "execution_count": 9,
   "id": "75b9e409",
   "metadata": {},
   "outputs": [],
   "source": [
    "prices=(10000,20000,45434,44444,789,90)"
   ]
  },
  {
   "cell_type": "code",
   "execution_count": 11,
   "id": "d034629d",
   "metadata": {},
   "outputs": [
    {
     "data": {
      "text/plain": [
       "90"
      ]
     },
     "execution_count": 11,
     "metadata": {},
     "output_type": "execute_result"
    }
   ],
   "source": [
    "#min() returns min value in the tuple\n",
    "min_price=min(prices)\n",
    "min_price"
   ]
  },
  {
   "cell_type": "code",
   "execution_count": 13,
   "id": "d449e26e",
   "metadata": {},
   "outputs": [
    {
     "data": {
      "text/plain": [
       "45434"
      ]
     },
     "execution_count": 13,
     "metadata": {},
     "output_type": "execute_result"
    }
   ],
   "source": [
    "#returns max value in the tuple\n",
    "max_price=max(prices)\n",
    "max_price"
   ]
  },
  {
   "cell_type": "code",
   "execution_count": 14,
   "id": "8dfaa8de",
   "metadata": {},
   "outputs": [],
   "source": [
    "#duplicates can be allowed"
   ]
  },
  {
   "cell_type": "code",
   "execution_count": 18,
   "id": "8cb3f294",
   "metadata": {},
   "outputs": [
    {
     "name": "stdout",
     "output_type": "stream",
     "text": [
      "10000\n"
     ]
    }
   ],
   "source": [
    "#tuple unpcking: extracting of tuple values into individual variables\n",
    "price1,price2,price3,price4,price5,price6=prices\n",
    "print(price1)"
   ]
  },
  {
   "cell_type": "code",
   "execution_count": 19,
   "id": "6a6bfef6",
   "metadata": {},
   "outputs": [
    {
     "name": "stdout",
     "output_type": "stream",
     "text": [
      "1234\n"
     ]
    }
   ],
   "source": [
    "product1_price,product2_price,product3_price=(1234,567,5000)\n",
    "print(product1_price)"
   ]
  },
  {
   "cell_type": "code",
   "execution_count": 21,
   "id": "8dea122f",
   "metadata": {},
   "outputs": [
    {
     "data": {
      "text/plain": [
       "'Female'"
      ]
     },
     "execution_count": 21,
     "metadata": {},
     "output_type": "execute_result"
    }
   ],
   "source": [
    "name,id,gender=('Bhavana Basa','LE1','Female')\n",
    "gender"
   ]
  },
  {
   "cell_type": "code",
   "execution_count": 25,
   "id": "94bcdad7",
   "metadata": {},
   "outputs": [],
   "source": [
    "#dictionary methods\n",
    "#tuples in a dictionary\n",
    "students = {\n",
    "    \"Alice\": \"Computer Science\",\n",
    "    \"Bob\": \"Mathematics\",\n",
    "    \"Charlie\": \"Physics\",\n",
    "    \"Diana\": \"Economics\",\n",
    "    \"Bhavana\":\"AI&ML\",\n",
    "    \"Neha\":\"CSE Core\",\n",
    "    \"Srilu\":\"LAW\"\n",
    "}\n"
   ]
  },
  {
   "cell_type": "code",
   "execution_count": 26,
   "id": "47602c93",
   "metadata": {},
   "outputs": [
    {
     "name": "stdout",
     "output_type": "stream",
     "text": [
      "Computer Science\n"
     ]
    }
   ],
   "source": [
    "print(students['Alice'])"
   ]
  },
  {
   "cell_type": "markdown",
   "id": "257f000a",
   "metadata": {},
   "source": [
    "# Dictionary Methods"
   ]
  },
  {
   "cell_type": "code",
   "execution_count": 27,
   "id": "c82888a5",
   "metadata": {},
   "outputs": [
    {
     "data": {
      "text/plain": [
       "dict_keys(['Alice', 'Bob', 'Charlie', 'Diana', 'Bhavana', 'Neha', 'Srilu'])"
      ]
     },
     "execution_count": 27,
     "metadata": {},
     "output_type": "execute_result"
    }
   ],
   "source": [
    "#keys() returns all the keys available in the dictionary\n",
    "keys=students.keys()\n",
    "keys"
   ]
  },
  {
   "cell_type": "code",
   "execution_count": 28,
   "id": "7f626c1f",
   "metadata": {},
   "outputs": [
    {
     "data": {
      "text/plain": [
       "dict_values(['Computer Science', 'Mathematics', 'Physics', 'Economics', 'AI&ML', 'CSE Core', 'LAW'])"
      ]
     },
     "execution_count": 28,
     "metadata": {},
     "output_type": "execute_result"
    }
   ],
   "source": [
    "#values() returns all the values available in the dictionary\n",
    "values=students.values()\n",
    "values"
   ]
  },
  {
   "cell_type": "code",
   "execution_count": 29,
   "id": "08c602e5",
   "metadata": {},
   "outputs": [
    {
     "data": {
      "text/plain": [
       "dict_items([('Alice', 'Computer Science'), ('Bob', 'Mathematics'), ('Charlie', 'Physics'), ('Diana', 'Economics'), ('Bhavana', 'AI&ML'), ('Neha', 'CSE Core'), ('Srilu', 'LAW')])"
      ]
     },
     "execution_count": 29,
     "metadata": {},
     "output_type": "execute_result"
    }
   ],
   "source": [
    "#items() returns a list of dictionaries\n",
    "items=students.items()\n",
    "items"
   ]
  },
  {
   "cell_type": "code",
   "execution_count": 33,
   "id": "f28e7ef3",
   "metadata": {},
   "outputs": [
    {
     "data": {
      "text/plain": [
       "'Computer Science'"
      ]
     },
     "execution_count": 33,
     "metadata": {},
     "output_type": "execute_result"
    }
   ],
   "source": [
    "#get() if key value exists returns that key value\n",
    "#else returns default value\n",
    "get=students.get('Alice',0)\n",
    "get"
   ]
  },
  {
   "cell_type": "code",
   "execution_count": 52,
   "id": "9df2feab",
   "metadata": {},
   "outputs": [],
   "source": [
    "faculty = {\n",
    "    \"Aakaash\": \"Computer Science\",\n",
    "    \"Ananth\": \"Mathematics\",\n",
    "    \"Nitha\": \"Physics\",\n",
    "    \"Shokla\": \"Economics\",\n",
    "    \"Mehtha\":\"AI&ML\",\n",
    "    \"Mukesh\":\"CSE Core\",\n",
    "    \"Dheeru\":\"LAW\",\n",
    "    \"Basu\":\"\"\n",
    "}"
   ]
  },
  {
   "cell_type": "code",
   "execution_count": 53,
   "id": "7974b83d",
   "metadata": {},
   "outputs": [
    {
     "data": {
      "text/plain": [
       "''"
      ]
     },
     "execution_count": 53,
     "metadata": {},
     "output_type": "execute_result"
    }
   ],
   "source": [
    "#pop() if key value exists it deletes key value from dictionary\n",
    "#if key value doesn't exists it returns the default\n",
    "faculty.pop('Basu')"
   ]
  },
  {
   "cell_type": "code",
   "execution_count": 54,
   "id": "d43dd3ca",
   "metadata": {},
   "outputs": [
    {
     "data": {
      "text/plain": [
       "{'Aakaash': 'Computer Science',\n",
       " 'Ananth': 'Mathematics',\n",
       " 'Nitha': 'Physics',\n",
       " 'Shokla': 'Economics',\n",
       " 'Mehtha': 'AI&ML',\n",
       " 'Mukesh': 'CSE Core'}"
      ]
     },
     "execution_count": 54,
     "metadata": {},
     "output_type": "execute_result"
    }
   ],
   "source": [
    "faculty.pop('Dheeru')\n",
    "faculty"
   ]
  },
  {
   "cell_type": "code",
   "execution_count": 55,
   "id": "5059a9d1",
   "metadata": {},
   "outputs": [],
   "source": [
    "#clear() clears the dictionary\n",
    "friends={\n",
    "    \"Neha\":\"Ongole\",\n",
    "    \"Likki\":\"Nandigama\",\n",
    "    \"Jyothi\":\"Mylavaram\"\n",
    "}"
   ]
  },
  {
   "cell_type": "code",
   "execution_count": 57,
   "id": "879fb2ea",
   "metadata": {},
   "outputs": [
    {
     "data": {
      "text/plain": [
       "{}"
      ]
     },
     "execution_count": 57,
     "metadata": {},
     "output_type": "execute_result"
    }
   ],
   "source": [
    "friends.clear()\n",
    "friends"
   ]
  },
  {
   "cell_type": "code",
   "execution_count": 60,
   "id": "295c5ff1",
   "metadata": {},
   "outputs": [],
   "source": [
    "#copy() used to copy data from one dictionary to the other\n",
    "labs={\n",
    "    \"AWS\":\"AN\",\n",
    "    \"DBMS\":\"FN\",\n",
    "    \"DECA\":\"AN\",\n",
    "    \"OS\":\"FN\"\n",
    "}"
   ]
  },
  {
   "cell_type": "code",
   "execution_count": 61,
   "id": "2f49cc21",
   "metadata": {},
   "outputs": [
    {
     "data": {
      "text/plain": [
       "{'AWS': 'AN', 'DBMS': 'FN', 'DECA': 'AN', 'OS': 'FN'}"
      ]
     },
     "execution_count": 61,
     "metadata": {},
     "output_type": "execute_result"
    }
   ],
   "source": [
    "copy=labs.copy()\n",
    "copy"
   ]
  },
  {
   "cell_type": "code",
   "execution_count": 62,
   "id": "f8a5cc3e",
   "metadata": {},
   "outputs": [],
   "source": [
    "labs2={\n",
    "    \"WEB\":\"AN\",\n",
    "    \"CLOUD\":\"FN\",\n",
    "    \"IOS\":\"AN\"\n",
    "}"
   ]
  },
  {
   "cell_type": "code",
   "execution_count": 64,
   "id": "e1c5f2ae",
   "metadata": {},
   "outputs": [
    {
     "data": {
      "text/plain": [
       "{'AWS': 'AN',\n",
       " 'DBMS': 'FN',\n",
       " 'DECA': 'AN',\n",
       " 'OS': 'FN',\n",
       " 'WEB': 'AN',\n",
       " 'CLOUD': 'FN',\n",
       " 'IOS': 'AN'}"
      ]
     },
     "execution_count": 64,
     "metadata": {},
     "output_type": "execute_result"
    }
   ],
   "source": [
    "#update() updates the dictionary by combining with other dictionaries\n",
    "labs.update(labs2)\n",
    "labs"
   ]
  },
  {
   "cell_type": "code",
   "execution_count": null,
   "id": "d5fb6f8b",
   "metadata": {},
   "outputs": [],
   "source": []
  },
  {
   "cell_type": "code",
   "execution_count": null,
   "id": "c2f1d44f",
   "metadata": {},
   "outputs": [],
   "source": []
  }
 ],
 "metadata": {
  "kernelspec": {
   "display_name": "Python 3 (ipykernel)",
   "language": "python",
   "name": "python3"
  },
  "language_info": {
   "codemirror_mode": {
    "name": "ipython",
    "version": 3
   },
   "file_extension": ".py",
   "mimetype": "text/x-python",
   "name": "python",
   "nbconvert_exporter": "python",
   "pygments_lexer": "ipython3",
   "version": "3.11.5"
  }
 },
 "nbformat": 4,
 "nbformat_minor": 5
}
