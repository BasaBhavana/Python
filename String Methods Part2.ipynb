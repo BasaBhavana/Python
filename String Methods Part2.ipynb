{
 "cells": [
  {
   "cell_type": "code",
   "execution_count": 1,
   "id": "38b1517f",
   "metadata": {},
   "outputs": [],
   "source": [
    "#Searching and Replacing methods"
   ]
  },
  {
   "cell_type": "code",
   "execution_count": 2,
   "id": "15f5de60",
   "metadata": {},
   "outputs": [],
   "source": [
    "about_python='''Python can be used on a server to create web applications.\n",
    "Python can be used alongside software to create workflows.\n",
    "Python can connect to database systems. It can also read and modify files.\n",
    "Python can be used to handle big data and perform complex mathematics.\n",
    "Python can be used for rapid prototyping, or for production-ready software development.'''"
   ]
  },
  {
   "cell_type": "code",
   "execution_count": 5,
   "id": "f2b4de5d",
   "metadata": {},
   "outputs": [
    {
     "data": {
      "text/plain": [
       "5"
      ]
     },
     "execution_count": 5,
     "metadata": {},
     "output_type": "execute_result"
    }
   ],
   "source": [
    "#string_name.count('substring') this is used to find the occurences of a given sub string \n",
    "count=about_python.count('Python')\n",
    "count"
   ]
  },
  {
   "cell_type": "code",
   "execution_count": 6,
   "id": "bb534b50",
   "metadata": {},
   "outputs": [
    {
     "data": {
      "text/plain": [
       "'Basa'"
      ]
     },
     "execution_count": 6,
     "metadata": {},
     "output_type": "execute_result"
    }
   ],
   "source": [
    "#string_name.replace() : used to replace the old string with a new string\n",
    "password='BasaBhavana'\n",
    "new_password=password.replace('BasaBhavana','Basa')\n",
    "new_password"
   ]
  },
  {
   "cell_type": "code",
   "execution_count": 12,
   "id": "660033d7",
   "metadata": {},
   "outputs": [
    {
     "name": "stdout",
     "output_type": "stream",
     "text": [
      "Enter the passwordGachibowli\n"
     ]
    },
    {
     "data": {
      "text/plain": [
       "'**********'"
      ]
     },
     "execution_count": 12,
     "metadata": {},
     "output_type": "execute_result"
    }
   ],
   "source": [
    "#another way of replacing the string\n",
    "pwd=input(\"Enter the password\")\n",
    "new_pwd=pwd.replace(pwd,'*' * len(pwd))\n",
    "new_pwd"
   ]
  },
  {
   "cell_type": "code",
   "execution_count": 14,
   "id": "4c5651b8",
   "metadata": {},
   "outputs": [
    {
     "data": {
      "text/plain": [
       "14"
      ]
     },
     "execution_count": 14,
     "metadata": {},
     "output_type": "execute_result"
    }
   ],
   "source": [
    "#string.find() is used to find the sub-string in a given whole string\n",
    "#if the sub-string is found it returns the index\n",
    "#if not found it returns -1\n",
    "string='Python can be used on a server to create web applications'\n",
    "is_substring=string.find('used')\n",
    "is_substring"
   ]
  },
  {
   "cell_type": "code",
   "execution_count": 15,
   "id": "14f78972",
   "metadata": {},
   "outputs": [
    {
     "data": {
      "text/plain": [
       "-1"
      ]
     },
     "execution_count": 15,
     "metadata": {},
     "output_type": "execute_result"
    }
   ],
   "source": [
    "is_substring1=string.find('basa')\n",
    "is_substring1"
   ]
  },
  {
   "cell_type": "code",
   "execution_count": 16,
   "id": "dc2a1146",
   "metadata": {},
   "outputs": [
    {
     "data": {
      "text/plain": [
       "41"
      ]
     },
     "execution_count": 16,
     "metadata": {},
     "output_type": "execute_result"
    }
   ],
   "source": [
    "is_substring2=string.find('web')\n",
    "is_substring2"
   ]
  },
  {
   "cell_type": "code",
   "execution_count": null,
   "id": "efd9f09d",
   "metadata": {},
   "outputs": [],
   "source": []
  }
 ],
 "metadata": {
  "kernelspec": {
   "display_name": "Python 3 (ipykernel)",
   "language": "python",
   "name": "python3"
  },
  "language_info": {
   "codemirror_mode": {
    "name": "ipython",
    "version": 3
   },
   "file_extension": ".py",
   "mimetype": "text/x-python",
   "name": "python",
   "nbconvert_exporter": "python",
   "pygments_lexer": "ipython3",
   "version": "3.11.5"
  }
 },
 "nbformat": 4,
 "nbformat_minor": 5
}
