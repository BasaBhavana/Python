{
 "cells": [
  {
   "cell_type": "code",
   "execution_count": 6,
   "id": "af03a0f6",
   "metadata": {},
   "outputs": [],
   "source": [
    "#Python lists\n",
    "#mostly prefered for same datatypes\n",
    "courses=['Mern Stack','Data Science','Data Engg','Data Analytics']\n",
    "std=[1,'Bhavana','B','Devi',21,'LBRCE','Gachibowli']\n",
    "marks=[99,100,98,98,78]"
   ]
  },
  {
   "cell_type": "code",
   "execution_count": 7,
   "id": "5a411f39",
   "metadata": {},
   "outputs": [
    {
     "data": {
      "text/plain": [
       "['Mern Stack', 'Data Science', 'Data Engg', 'Data Analytics']"
      ]
     },
     "execution_count": 7,
     "metadata": {},
     "output_type": "execute_result"
    }
   ],
   "source": [
    "courses"
   ]
  },
  {
   "cell_type": "code",
   "execution_count": 9,
   "id": "698afa22",
   "metadata": {},
   "outputs": [
    {
     "data": {
      "text/plain": [
       "[1, 'Bhavana', 'B', 'Devi', 21, 'LBRCE', 'Gachibowli']"
      ]
     },
     "execution_count": 9,
     "metadata": {},
     "output_type": "execute_result"
    }
   ],
   "source": [
    "std\n",
    "#lists are stored as index values\n",
    "#index values starts from 0 to n-1"
   ]
  },
  {
   "cell_type": "code",
   "execution_count": 10,
   "id": "1a1545ff",
   "metadata": {},
   "outputs": [
    {
     "data": {
      "text/plain": [
       "[99, 100, 98, 98, 78]"
      ]
     },
     "execution_count": 10,
     "metadata": {},
     "output_type": "execute_result"
    }
   ],
   "source": [
    "marks"
   ]
  },
  {
   "cell_type": "code",
   "execution_count": 11,
   "id": "7f7e3391",
   "metadata": {},
   "outputs": [
    {
     "name": "stdout",
     "output_type": "stream",
     "text": [
      "Data Science\n"
     ]
    }
   ],
   "source": [
    "print(courses[1])"
   ]
  },
  {
   "cell_type": "code",
   "execution_count": 12,
   "id": "dfdbbf96",
   "metadata": {},
   "outputs": [
    {
     "name": "stdout",
     "output_type": "stream",
     "text": [
      "Devi\n"
     ]
    }
   ],
   "source": [
    "print(std[3])"
   ]
  },
  {
   "cell_type": "markdown",
   "id": "33a7dd59",
   "metadata": {},
   "source": [
    "# Nested list/Matrix\n"
   ]
  },
  {
   "cell_type": "code",
   "execution_count": 14,
   "id": "31f7de81",
   "metadata": {},
   "outputs": [],
   "source": [
    "matrix=[[2,4,5],[1,2,3]]\n",
    "#list within the list\n",
    "#stored as row/column format"
   ]
  },
  {
   "cell_type": "code",
   "execution_count": 15,
   "id": "af8b7485",
   "metadata": {},
   "outputs": [
    {
     "name": "stdout",
     "output_type": "stream",
     "text": [
      "4\n"
     ]
    }
   ],
   "source": [
    "print(matrix[0][1])"
   ]
  },
  {
   "cell_type": "code",
   "execution_count": 16,
   "id": "20f140cf",
   "metadata": {},
   "outputs": [
    {
     "name": "stdout",
     "output_type": "stream",
     "text": [
      "2\n"
     ]
    }
   ],
   "source": [
    "print(matrix[0][0])"
   ]
  },
  {
   "cell_type": "code",
   "execution_count": 17,
   "id": "b76e6d49",
   "metadata": {},
   "outputs": [],
   "source": [
    "#to add values into the list\n",
    "std.append(1)"
   ]
  },
  {
   "cell_type": "code",
   "execution_count": 18,
   "id": "95ff5b29",
   "metadata": {},
   "outputs": [
    {
     "data": {
      "text/plain": [
       "[1, 'Bhavana', 'B', 'Devi', 21, 'LBRCE', 'Gachibowli', 1]"
      ]
     },
     "execution_count": 18,
     "metadata": {},
     "output_type": "execute_result"
    }
   ],
   "source": [
    "std"
   ]
  },
  {
   "cell_type": "code",
   "execution_count": 19,
   "id": "30d71f05",
   "metadata": {},
   "outputs": [
    {
     "data": {
      "text/plain": [
       "[1, 'Bhavana', 'B', 'Devi', 21, 'LBRCE', 'Gachibowli', 1, 'Neha']"
      ]
     },
     "execution_count": 19,
     "metadata": {},
     "output_type": "execute_result"
    }
   ],
   "source": [
    "std.append('Neha')\n",
    "std"
   ]
  },
  {
   "cell_type": "code",
   "execution_count": 20,
   "id": "48824823",
   "metadata": {},
   "outputs": [
    {
     "data": {
      "text/plain": [
       "[1, 'Bhavana', 'Devi', 21, 'LBRCE', 'Gachibowli', 1, 'Neha']"
      ]
     },
     "execution_count": 20,
     "metadata": {},
     "output_type": "execute_result"
    }
   ],
   "source": [
    "#to remove values from the list\n",
    "std.remove('B')\n",
    "std"
   ]
  },
  {
   "cell_type": "code",
   "execution_count": 21,
   "id": "31e0c6a4",
   "metadata": {},
   "outputs": [
    {
     "data": {
      "text/plain": [
       "[1, 'Basa', 'Devi', 21, 'LBRCE', 'Gachibowli', 1, 'Neha']"
      ]
     },
     "execution_count": 21,
     "metadata": {},
     "output_type": "execute_result"
    }
   ],
   "source": [
    "#to override the values in the list\n",
    "std[1]='Basa'\n",
    "std"
   ]
  },
  {
   "cell_type": "code",
   "execution_count": null,
   "id": "0d1318bc",
   "metadata": {},
   "outputs": [],
   "source": []
  }
 ],
 "metadata": {
  "kernelspec": {
   "display_name": "Python 3 (ipykernel)",
   "language": "python",
   "name": "python3"
  },
  "language_info": {
   "codemirror_mode": {
    "name": "ipython",
    "version": 3
   },
   "file_extension": ".py",
   "mimetype": "text/x-python",
   "name": "python",
   "nbconvert_exporter": "python",
   "pygments_lexer": "ipython3",
   "version": "3.11.5"
  }
 },
 "nbformat": 4,
 "nbformat_minor": 5
}
