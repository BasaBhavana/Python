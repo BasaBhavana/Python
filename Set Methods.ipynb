{
 "cells": [
  {
   "cell_type": "code",
   "execution_count": 1,
   "id": "435a5e82",
   "metadata": {},
   "outputs": [
    {
     "data": {
      "text/plain": [
       "{'AI', 'DL', 'Java', 'ML', 'Oracle', 'Python'}"
      ]
     },
     "execution_count": 1,
     "metadata": {},
     "output_type": "execute_result"
    }
   ],
   "source": [
    "courses={\"Python\",\"AI\",\"ML\",\"DL\",\"Java\",\"Oracle\"}\n",
    "courses"
   ]
  },
  {
   "cell_type": "code",
   "execution_count": 2,
   "id": "c790beda",
   "metadata": {},
   "outputs": [],
   "source": [
    "#set:unordered,immutable collection of unique items\n",
    "#mainly used to remove duplicates"
   ]
  },
  {
   "cell_type": "markdown",
   "id": "41697ae3",
   "metadata": {},
   "source": [
    "# Adding & Removing Methods"
   ]
  },
  {
   "cell_type": "code",
   "execution_count": 4,
   "id": "a3551742",
   "metadata": {},
   "outputs": [
    {
     "data": {
      "text/plain": [
       "{'AI', 'DL', 'Java', 'ML', 'Oracle', 'Python', 'Statistics'}"
      ]
     },
     "execution_count": 4,
     "metadata": {},
     "output_type": "execute_result"
    }
   ],
   "source": [
    "#add() adds new value to the set\n",
    "#adds new value at random position\n",
    "courses.add('Statistics')\n",
    "courses"
   ]
  },
  {
   "cell_type": "code",
   "execution_count": 5,
   "id": "e70e088e",
   "metadata": {},
   "outputs": [
    {
     "data": {
      "text/plain": [
       "{'DL', 'Java', 'ML', 'Oracle', 'Python', 'Statistics'}"
      ]
     },
     "execution_count": 5,
     "metadata": {},
     "output_type": "execute_result"
    }
   ],
   "source": [
    "#remove() removes element from the set\n",
    "courses.remove('AI')\n",
    "courses"
   ]
  },
  {
   "cell_type": "code",
   "execution_count": 7,
   "id": "8680930e",
   "metadata": {},
   "outputs": [
    {
     "ename": "KeyError",
     "evalue": "'SQL'",
     "output_type": "error",
     "traceback": [
      "\u001b[1;31m---------------------------------------------------------------------------\u001b[0m",
      "\u001b[1;31mKeyError\u001b[0m                                  Traceback (most recent call last)",
      "Cell \u001b[1;32mIn[7], line 2\u001b[0m\n\u001b[0;32m      1\u001b[0m \u001b[38;5;66;03m#if element doesn't exists it throws an error\u001b[39;00m\n\u001b[1;32m----> 2\u001b[0m courses\u001b[38;5;241m.\u001b[39mremove(\u001b[38;5;124m'\u001b[39m\u001b[38;5;124mSQL\u001b[39m\u001b[38;5;124m'\u001b[39m)\n\u001b[0;32m      3\u001b[0m courses\n",
      "\u001b[1;31mKeyError\u001b[0m: 'SQL'"
     ]
    }
   ],
   "source": [
    "#if element doesn't exists it throws an error\n",
    "courses.remove('SQL')\n",
    "courses"
   ]
  },
  {
   "cell_type": "code",
   "execution_count": 8,
   "id": "8f11867f",
   "metadata": {},
   "outputs": [
    {
     "data": {
      "text/plain": [
       "{'Java', 'ML', 'Oracle', 'Python', 'Statistics'}"
      ]
     },
     "execution_count": 8,
     "metadata": {},
     "output_type": "execute_result"
    }
   ],
   "source": [
    "#discard() same as remove but doesnt throws error\n",
    "courses.discard('DL')\n",
    "courses"
   ]
  },
  {
   "cell_type": "code",
   "execution_count": 9,
   "id": "10524431",
   "metadata": {},
   "outputs": [
    {
     "data": {
      "text/plain": [
       "{'Java', 'ML', 'Oracle', 'Python', 'Statistics'}"
      ]
     },
     "execution_count": 9,
     "metadata": {},
     "output_type": "execute_result"
    }
   ],
   "source": [
    "courses.discard('SQL')\n",
    "courses"
   ]
  },
  {
   "cell_type": "code",
   "execution_count": 11,
   "id": "3d365695",
   "metadata": {},
   "outputs": [
    {
     "data": {
      "text/plain": [
       "{'ML', 'Python', 'Statistics'}"
      ]
     },
     "execution_count": 11,
     "metadata": {},
     "output_type": "execute_result"
    }
   ],
   "source": [
    "#removes some random element in the set\n",
    "courses.pop()\n",
    "courses"
   ]
  },
  {
   "cell_type": "code",
   "execution_count": 12,
   "id": "b840f81b",
   "metadata": {},
   "outputs": [
    {
     "data": {
      "text/plain": [
       "set()"
      ]
     },
     "execution_count": 12,
     "metadata": {},
     "output_type": "execute_result"
    }
   ],
   "source": [
    "#clears all the elements in the set\n",
    "courses2={\"R\",\"C\",\"C++\"}\n",
    "courses2.clear()\n",
    "courses2"
   ]
  },
  {
   "cell_type": "markdown",
   "id": "c7de84c5",
   "metadata": {},
   "source": [
    "# Set Operations"
   ]
  },
  {
   "cell_type": "code",
   "execution_count": 13,
   "id": "d8316a9d",
   "metadata": {},
   "outputs": [],
   "source": [
    "#union() combines two sets and returns a new set\n",
    "frontend={'html','css','react'}\n",
    "backend={'spring','boot','java'}"
   ]
  },
  {
   "cell_type": "code",
   "execution_count": 15,
   "id": "59bb560b",
   "metadata": {},
   "outputs": [
    {
     "data": {
      "text/plain": [
       "{'boot', 'css', 'html', 'java', 'react', 'spring'}"
      ]
     },
     "execution_count": 15,
     "metadata": {},
     "output_type": "execute_result"
    }
   ],
   "source": [
    "fullstack=frontend.union(backend)\n",
    "fullstack"
   ]
  },
  {
   "cell_type": "code",
   "execution_count": 20,
   "id": "5fca6856",
   "metadata": {},
   "outputs": [],
   "source": [
    "#intersection() returns common values from both the sets\n",
    "data_analytics={'Python','NumPy','Excel'}\n",
    "data_science={'Python','NumPy','Excel','DL','AI','ML'}\n"
   ]
  },
  {
   "cell_type": "code",
   "execution_count": 21,
   "id": "fd3e276d",
   "metadata": {},
   "outputs": [
    {
     "data": {
      "text/plain": [
       "{'Excel', 'NumPy', 'Python'}"
      ]
     },
     "execution_count": 21,
     "metadata": {},
     "output_type": "execute_result"
    }
   ],
   "source": [
    "common_courses=data_analytics.intersection(data_science)\n",
    "common_courses"
   ]
  },
  {
   "cell_type": "code",
   "execution_count": 22,
   "id": "4452004a",
   "metadata": {},
   "outputs": [
    {
     "data": {
      "text/plain": [
       "set()"
      ]
     },
     "execution_count": 22,
     "metadata": {},
     "output_type": "execute_result"
    }
   ],
   "source": [
    "#difference() returns elements available in 1st set but not from 2nd\n",
    "difference=data_analytics.difference(data_science)\n",
    "difference"
   ]
  },
  {
   "cell_type": "code",
   "execution_count": 24,
   "id": "815ad9d9",
   "metadata": {},
   "outputs": [
    {
     "data": {
      "text/plain": [
       "{'AI', 'DL', 'ML'}"
      ]
     },
     "execution_count": 24,
     "metadata": {},
     "output_type": "execute_result"
    }
   ],
   "source": [
    "#symmetric_difference() returns elements that are not common in both the sets\n",
    "unique=data_analytics.symmetric_difference(data_science)\n",
    "unique"
   ]
  },
  {
   "cell_type": "code",
   "execution_count": null,
   "id": "08b12606",
   "metadata": {},
   "outputs": [],
   "source": []
  }
 ],
 "metadata": {
  "kernelspec": {
   "display_name": "Python 3 (ipykernel)",
   "language": "python",
   "name": "python3"
  },
  "language_info": {
   "codemirror_mode": {
    "name": "ipython",
    "version": 3
   },
   "file_extension": ".py",
   "mimetype": "text/x-python",
   "name": "python",
   "nbconvert_exporter": "python",
   "pygments_lexer": "ipython3",
   "version": "3.11.5"
  }
 },
 "nbformat": 4,
 "nbformat_minor": 5
}
