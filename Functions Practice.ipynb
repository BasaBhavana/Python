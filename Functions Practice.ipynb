{
 "cells": [
  {
   "cell_type": "code",
   "execution_count": 1,
   "id": "c7565e1a",
   "metadata": {},
   "outputs": [
    {
     "name": "stdout",
     "output_type": "stream",
     "text": [
      "Have a nice day\n"
     ]
    }
   ],
   "source": [
    "#function without the parameters\n",
    "def greet():\n",
    "    print(\"Have a nice day\")\n",
    "    \n",
    "greet()\n"
   ]
  },
  {
   "cell_type": "code",
   "execution_count": 7,
   "id": "1ae9d737",
   "metadata": {},
   "outputs": [
    {
     "name": "stdout",
     "output_type": "stream",
     "text": [
      "sweet! is soo yummy\n",
      "mandi! is soo yummy\n",
      "Kunafa! is soo yummy\n"
     ]
    }
   ],
   "source": [
    "#functions with the parameters\n",
    "def treat(sweet):\n",
    "    print(f\"{sweet}! is soo yummy\")\n",
    "\n",
    "treat('sweet')\n",
    "treat('mandi')\n",
    "treat('Kunafa')"
   ]
  },
  {
   "cell_type": "code",
   "execution_count": 11,
   "id": "6a82a575",
   "metadata": {},
   "outputs": [
    {
     "name": "stdout",
     "output_type": "stream",
     "text": [
      "Result: 19\n",
      "Result: 30\n",
      "Result: 186\n"
     ]
    }
   ],
   "source": [
    "#used to pass the dynamic values to the source code\n",
    "def sum(num1,num2):\n",
    "    result=num1+num2\n",
    "    print(\"Result:\",result)\n",
    "    \n",
    "sum(9,10)\n",
    "\n",
    "sum(10,20)\n",
    "\n",
    "sum(99,87)"
   ]
  },
  {
   "cell_type": "code",
   "execution_count": 14,
   "id": "b428ea69",
   "metadata": {},
   "outputs": [
    {
     "name": "stdout",
     "output_type": "stream",
     "text": [
      "Result: 220\n"
     ]
    }
   ],
   "source": [
    "#return:returns value from function definition to function call\n",
    "\n",
    "def product(numb1,numb2):\n",
    "    res=numb1*numb2\n",
    "    return res\n",
    "\n",
    "res=product(10,22)\n",
    "print(\"Result:\",res)\n",
    "\n"
   ]
  },
  {
   "cell_type": "code",
   "execution_count": 18,
   "id": "158eced3",
   "metadata": {},
   "outputs": [
    {
     "name": "stdout",
     "output_type": "stream",
     "text": [
      "Miss. Basa Bhavana\n",
      "Mr. Basa Dev\n"
     ]
    }
   ],
   "source": [
    "def construct_fullname(fname,lname,gender):\n",
    "    if gender=='Male':\n",
    "        print(f\"Mr. {fname} {lname}\")\n",
    "    else:\n",
    "        print(f\"Miss. {fname} {lname}\")\n",
    "        \n",
    "construct_fullname('Basa','Bhavana','Female')\n",
    "construct_fullname('Basa','Dev','Male')"
   ]
  },
  {
   "cell_type": "code",
   "execution_count": null,
   "id": "909a298d",
   "metadata": {},
   "outputs": [],
   "source": []
  }
 ],
 "metadata": {
  "kernelspec": {
   "display_name": "Python 3 (ipykernel)",
   "language": "python",
   "name": "python3"
  },
  "language_info": {
   "codemirror_mode": {
    "name": "ipython",
    "version": 3
   },
   "file_extension": ".py",
   "mimetype": "text/x-python",
   "name": "python",
   "nbconvert_exporter": "python",
   "pygments_lexer": "ipython3",
   "version": "3.11.5"
  }
 },
 "nbformat": 4,
 "nbformat_minor": 5
}
