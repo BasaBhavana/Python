{
 "cells": [
  {
   "cell_type": "code",
   "execution_count": 1,
   "id": "edfd1e5a",
   "metadata": {},
   "outputs": [],
   "source": [
    "#unordered\n",
    "#mutable collection\n",
    "#unique values\n",
    "#duplicates are not allowed"
   ]
  },
  {
   "cell_type": "code",
   "execution_count": 2,
   "id": "07d8bb0f",
   "metadata": {},
   "outputs": [],
   "source": [
    "#syntax:var_name={val1,val2.......valn}"
   ]
  },
  {
   "cell_type": "code",
   "execution_count": 3,
   "id": "f73ea6ac",
   "metadata": {},
   "outputs": [],
   "source": [
    "names={'Devi','Devi','Basa','Bhavana'}"
   ]
  },
  {
   "cell_type": "code",
   "execution_count": 4,
   "id": "01c98b44",
   "metadata": {},
   "outputs": [
    {
     "data": {
      "text/plain": [
       "{'Basa', 'Bhavana', 'Devi'}"
      ]
     },
     "execution_count": 4,
     "metadata": {},
     "output_type": "execute_result"
    }
   ],
   "source": [
    "names\n",
    "#duplicate values are automatically removed"
   ]
  },
  {
   "cell_type": "code",
   "execution_count": 5,
   "id": "c4c400be",
   "metadata": {},
   "outputs": [],
   "source": [
    "#Find common frnds of 2 persons\n",
    "bhavana_frnds={'Neha','Likki','Jyothi'}\n",
    "bhasu_frnds={'Neha','Subbu','Srilu'}"
   ]
  },
  {
   "cell_type": "code",
   "execution_count": 6,
   "id": "7bd2b87b",
   "metadata": {},
   "outputs": [
    {
     "name": "stdout",
     "output_type": "stream",
     "text": [
      "{'Neha'}\n"
     ]
    }
   ],
   "source": [
    "# & operator used to find common values\n",
    "mutual_frnds=bhavana_frnds & bhasu_frnds\n",
    "print(mutual_frnds)"
   ]
  },
  {
   "cell_type": "code",
   "execution_count": 10,
   "id": "8339a832",
   "metadata": {},
   "outputs": [],
   "source": [
    "#to find the new values added\n",
    "yesterday={'yippe','maggie','atta'}\n",
    "today={'yippe','maggie','atta','panner'}"
   ]
  },
  {
   "cell_type": "code",
   "execution_count": 12,
   "id": "1056acf7",
   "metadata": {},
   "outputs": [
    {
     "data": {
      "text/plain": [
       "{'panner'}"
      ]
     },
     "execution_count": 12,
     "metadata": {},
     "output_type": "execute_result"
    }
   ],
   "source": [
    "new_orders=today - yesterday\n",
    "new_orders"
   ]
  },
  {
   "cell_type": "code",
   "execution_count": null,
   "id": "f4c2f59d",
   "metadata": {},
   "outputs": [],
   "source": []
  }
 ],
 "metadata": {
  "kernelspec": {
   "display_name": "Python 3 (ipykernel)",
   "language": "python",
   "name": "python3"
  },
  "language_info": {
   "codemirror_mode": {
    "name": "ipython",
    "version": 3
   },
   "file_extension": ".py",
   "mimetype": "text/x-python",
   "name": "python",
   "nbconvert_exporter": "python",
   "pygments_lexer": "ipython3",
   "version": "3.11.5"
  }
 },
 "nbformat": 4,
 "nbformat_minor": 5
}
