{
 "cells": [
  {
   "cell_type": "markdown",
   "id": "047b5908",
   "metadata": {},
   "source": [
    "# Conversion functions:Converts one integer format to another integer format"
   ]
  },
  {
   "cell_type": "markdown",
   "id": "3475f3e9",
   "metadata": {},
   "source": [
    "# bin():converts given value to binary format"
   ]
  },
  {
   "cell_type": "code",
   "execution_count": 20,
   "id": "bae8e5e3",
   "metadata": {},
   "outputs": [
    {
     "name": "stdout",
     "output_type": "stream",
     "text": [
      "0b11001\n"
     ]
    }
   ],
   "source": [
    "a=25#decimal to binary\n",
    "print(bin(a))"
   ]
  },
  {
   "cell_type": "markdown",
   "id": "14c9a17d",
   "metadata": {},
   "source": [
    "# Converts given value to octal format"
   ]
  },
  {
   "cell_type": "code",
   "execution_count": 21,
   "id": "cd4a9ae5",
   "metadata": {},
   "outputs": [
    {
     "name": "stdout",
     "output_type": "stream",
     "text": [
      "0o31\n"
     ]
    }
   ],
   "source": [
    "a=25\n",
    "print(oct(a))"
   ]
  },
  {
   "cell_type": "markdown",
   "id": "e0ebee29",
   "metadata": {},
   "source": [
    "# Converts given value to hexadecimal format"
   ]
  },
  {
   "cell_type": "code",
   "execution_count": 22,
   "id": "f620fc69",
   "metadata": {},
   "outputs": [
    {
     "name": "stdout",
     "output_type": "stream",
     "text": [
      "0xff\n"
     ]
    }
   ],
   "source": [
    "a=255\n",
    "print(hex(a))"
   ]
  },
  {
   "cell_type": "markdown",
   "id": "6f1b7228",
   "metadata": {},
   "source": [
    "# Built-in datatypes"
   ]
  },
  {
   "cell_type": "code",
   "execution_count": 23,
   "id": "a31d7ec0",
   "metadata": {},
   "outputs": [
    {
     "name": "stdout",
     "output_type": "stream",
     "text": [
      "1\n",
      "2\n",
      "3\n",
      "4\n",
      "5\n",
      "6\n",
      "7\n",
      "8\n",
      "9\n",
      "10\n"
     ]
    }
   ],
   "source": [
    "#range:Prints values from start to end-1\n",
    "a=range(1,11)\n",
    "for i in a:\n",
    "    print(i)"
   ]
  },
  {
   "cell_type": "markdown",
   "id": "a916e555",
   "metadata": {},
   "source": [
    "# Byte datatype:Used to represent sequence of byte values from 0 to 255"
   ]
  },
  {
   "cell_type": "code",
   "execution_count": 24,
   "id": "37ca2a3d",
   "metadata": {},
   "outputs": [
    {
     "name": "stdout",
     "output_type": "stream",
     "text": [
      "[65, 66, 67, 68, 69]\n",
      "b'ABCDE'\n"
     ]
    }
   ],
   "source": [
    "st=[65,66,67,68,69]\n",
    "b=bytes(st)\n",
    "print(st)\n",
    "print(b)"
   ]
  },
  {
   "cell_type": "code",
   "execution_count": 25,
   "id": "0a12ea10",
   "metadata": {},
   "outputs": [
    {
     "name": "stdout",
     "output_type": "stream",
     "text": [
      "<class 'bytes'>\n"
     ]
    }
   ],
   "source": [
    "print(type(b))"
   ]
  },
  {
   "cell_type": "markdown",
   "id": "f0b15860",
   "metadata": {},
   "source": [
    "# bytearray datatype:Similar to byte datatype,but it is mutable object"
   ]
  },
  {
   "cell_type": "code",
   "execution_count": 26,
   "id": "705fd60b",
   "metadata": {},
   "outputs": [
    {
     "name": "stdout",
     "output_type": "stream",
     "text": [
      "[65, 66, 67, 68, 69]\n",
      "bytearray(b'ABCDE')\n"
     ]
    }
   ],
   "source": [
    "st1=[65,66,67,68,69]\n",
    "x=bytearray(st1)\n",
    "print(st1)\n",
    "print(x)\n"
   ]
  },
  {
   "cell_type": "code",
   "execution_count": 27,
   "id": "0fc60d23",
   "metadata": {},
   "outputs": [
    {
     "name": "stdout",
     "output_type": "stream",
     "text": [
      "<class 'bytearray'>\n"
     ]
    }
   ],
   "source": [
    "print(type(x))"
   ]
  },
  {
   "cell_type": "markdown",
   "id": "67086d42",
   "metadata": {},
   "source": [
    "# frozenset datatype:Similar to set, but is immutable"
   ]
  },
  {
   "cell_type": "code",
   "execution_count": 28,
   "id": "17ed4c0c",
   "metadata": {},
   "outputs": [
    {
     "name": "stdout",
     "output_type": "stream",
     "text": [
      "{40, 10, 20, 30}\n"
     ]
    }
   ],
   "source": [
    "s={10,20,30,40}#set\n",
    "print(s)"
   ]
  },
  {
   "cell_type": "code",
   "execution_count": 29,
   "id": "140be277",
   "metadata": {},
   "outputs": [
    {
     "name": "stdout",
     "output_type": "stream",
     "text": [
      "<class 'set'>\n"
     ]
    }
   ],
   "source": [
    "print(type(s))"
   ]
  },
  {
   "cell_type": "code",
   "execution_count": 30,
   "id": "c86f1f73",
   "metadata": {},
   "outputs": [
    {
     "name": "stdout",
     "output_type": "stream",
     "text": [
      "{40, 10, 20, 25, 30}\n"
     ]
    }
   ],
   "source": [
    "s.add(25)#can be added, it is mutable\n",
    "print(s)"
   ]
  },
  {
   "cell_type": "code",
   "execution_count": 31,
   "id": "d6d1d742",
   "metadata": {},
   "outputs": [
    {
     "data": {
      "text/plain": [
       "frozenset({10, 20, 25, 30, 40})"
      ]
     },
     "execution_count": 31,
     "metadata": {},
     "output_type": "execute_result"
    }
   ],
   "source": [
    "fs=frozenset(s)\n",
    "fs"
   ]
  },
  {
   "cell_type": "markdown",
   "id": "d0aefca8",
   "metadata": {},
   "source": [
    "# input():used to take input from the user"
   ]
  },
  {
   "cell_type": "code",
   "execution_count": 34,
   "id": "83931d01",
   "metadata": {},
   "outputs": [
    {
     "name": "stdout",
     "output_type": "stream",
     "text": [
      "Enter num12\n",
      "Enter strBhavana\n",
      "Enter float14.67\n",
      "12 Bhavana 14.67\n"
     ]
    }
   ],
   "source": [
    "a=input(\"Enter num\")\n",
    "b=input(\"Enter str\")\n",
    "c=input(\"Enter float\")\n",
    "print(a,b,c)"
   ]
  },
  {
   "cell_type": "code",
   "execution_count": 35,
   "id": "0ee7adfd",
   "metadata": {},
   "outputs": [
    {
     "name": "stdout",
     "output_type": "stream",
     "text": [
      "<class 'str'> <class 'str'> <class 'str'>\n"
     ]
    }
   ],
   "source": [
    "print(type(a),type(b),type(c))"
   ]
  },
  {
   "cell_type": "markdown",
   "id": "3ddaf390",
   "metadata": {},
   "source": [
    "# Another method to read the input"
   ]
  },
  {
   "cell_type": "code",
   "execution_count": 38,
   "id": "0913aa0b",
   "metadata": {},
   "outputs": [
    {
     "name": "stdout",
     "output_type": "stream",
     "text": [
      "Enter a nums1 4 6\n",
      "1 4 6\n"
     ]
    }
   ],
   "source": [
    "a,b,c=[int(x) for x in input(\"Enter a nums\").split()]\n",
    "print(a,b,c)"
   ]
  },
  {
   "cell_type": "code",
   "execution_count": 39,
   "id": "d7a22f5a",
   "metadata": {},
   "outputs": [
    {
     "name": "stdout",
     "output_type": "stream",
     "text": [
      "Enter float values12.5 56.76 89.0\n",
      "12.5 56.76 89.0\n"
     ]
    }
   ],
   "source": [
    "x,y,z=[float(x) for x in input(\"Enter float values\").split()]\n",
    "print(x,y,z)"
   ]
  },
  {
   "cell_type": "code",
   "execution_count": null,
   "id": "c66bc4cd",
   "metadata": {},
   "outputs": [],
   "source": []
  }
 ],
 "metadata": {
  "kernelspec": {
   "display_name": "Python 3 (ipykernel)",
   "language": "python",
   "name": "python3"
  },
  "language_info": {
   "codemirror_mode": {
    "name": "ipython",
    "version": 3
   },
   "file_extension": ".py",
   "mimetype": "text/x-python",
   "name": "python",
   "nbconvert_exporter": "python",
   "pygments_lexer": "ipython3",
   "version": "3.11.5"
  }
 },
 "nbformat": 4,
 "nbformat_minor": 5
}
